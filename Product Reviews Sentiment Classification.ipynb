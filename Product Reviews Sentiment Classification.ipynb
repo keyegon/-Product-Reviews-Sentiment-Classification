{
 "cells": [
  {
   "attachments": {},
   "cell_type": "markdown",
   "metadata": {},
   "source": [
    "# **Product Reviews Sentiment Classification**"
   ]
  },
  {
   "attachments": {},
   "cell_type": "markdown",
   "metadata": {},
   "source": [
    "Our project aims to build a text classification model to predict the sentiment of product reviews scraped from Amazon. The dataset contains reviews of various products, and our objective is to develop a model that can accurately classify these reviews into positive or negative sentiment categories.\n",
    "\n",
    "To achieve this goal, we will start by checking the distribution of sentiments in the dataset and combine neutral and positive sentiments to create a binary classification task. We will then preprocess the text by removing standard stopwords and punctuations using the NLTK library, and analyze the top frequent words to add a custom stoplist if necessary. We will also convert the text to lowercase, apply stemming and lemmatization, and remove numbers from the review column to prepare the text for modeling.\n",
    "\n",
    "Next, we will create and visualize a word cloud from the final prepared text to get an idea of the most common words used in the reviews. We will then create two datasets - one vectorized using CountVectorizer and the other using TF-IDF vectorizer - and build logistic regression models on both sets of data. We will compare the performance of these models and choose the one with the best accuracy.\n",
    "\n",
    " Through this project, we aim to develop a robust text classification model that can accurately predict the sentiment of product reviews, which could be valuable for businesses in improving their product offerings and customer satisfaction."
   ]
  },
  {
   "attachments": {},
   "cell_type": "markdown",
   "metadata": {},
   "source": [
    "## Problem Statement:\n",
    "This dataset was created from the scraped reviews from products in Amazon for the purpose of text classification. Build a text classification model to predict the sentiment from the review the user writes for the product.\n"
   ]
  },
  {
   "attachments": {},
   "cell_type": "markdown",
   "metadata": {},
   "source": [
    "## Load Libraries"
   ]
  },
  {
   "cell_type": "code",
   "execution_count": 168,
   "metadata": {},
   "outputs": [],
   "source": [
    "import pandas as pd\n",
    "import requests\n",
    "import seaborn as sns\n",
    "import matplotlib.pyplot as plt\n",
    "from collections import Counter\n",
    "\n",
    "import nltk\n",
    "from nltk.corpus import stopwords\n",
    "from nltk.stem import PorterStemmer, LancasterStemmer\n",
    "from nltk.tokenize import sent_tokenize, word_tokenize, RegexpTokenizer\n",
    "from wordcloud import WordCloud, STOPWORDS\n",
    "from sklearn.metrics import accuracy_score\n",
    "from sklearn.linear_model import LogisticRegression\n",
    "from sklearn.model_selection import train_test_split\n",
    "from sklearn.feature_extraction.text import CountVectorizer, TfidfVectorizer\n",
    "\n",
    "%matplotlib inline"
   ]
  },
  {
   "attachments": {},
   "cell_type": "markdown",
   "metadata": {},
   "source": [
    "## Reading data"
   ]
  },
  {
   "cell_type": "code",
   "execution_count": 169,
   "metadata": {},
   "outputs": [],
   "source": [
    "# The URL of the file to download\n",
    "url = 'https://drive.google.com/uc?id=1ovYnpXHUVHln4NuSo9IcY0Db1fAIu-RN'\n",
    "\n",
    "# Send a GET request to the URL to download the file\n",
    "response = requests.get(url)\n",
    "\n",
    "# Save the downloaded file to disk\n",
    "with open('data.csv', 'wb') as f:\n",
    "    f.write(response.content)\n",
    "\n",
    "# Read the data from the downloaded file using pandas\n",
    "data = pd.read_csv('data.csv')\n",
    "\n"
   ]
  },
  {
   "attachments": {},
   "cell_type": "markdown",
   "metadata": {},
   "source": [
    "## EDA"
   ]
  },
  {
   "cell_type": "code",
   "execution_count": 170,
   "metadata": {},
   "outputs": [
    {
     "data": {
      "text/plain": [
       "(17340, 4)"
      ]
     },
     "execution_count": 170,
     "metadata": {},
     "output_type": "execute_result"
    }
   ],
   "source": [
    "# Check the shape of teh data\n",
    "data.shape"
   ]
  },
  {
   "cell_type": "code",
   "execution_count": 171,
   "metadata": {},
   "outputs": [
    {
     "data": {
      "text/plain": [
       "Index(['sentiments', 'cleaned_review', 'cleaned_review_length',\n",
       "       'review_score'],\n",
       "      dtype='object')"
      ]
     },
     "execution_count": 171,
     "metadata": {},
     "output_type": "execute_result"
    }
   ],
   "source": [
    "# check columns in the dataset\n",
    "data.columns"
   ]
  },
  {
   "cell_type": "code",
   "execution_count": 172,
   "metadata": {},
   "outputs": [
    {
     "name": "stdout",
     "output_type": "stream",
     "text": [
      "<class 'pandas.core.frame.DataFrame'>\n",
      "RangeIndex: 17340 entries, 0 to 17339\n",
      "Data columns (total 4 columns):\n",
      " #   Column                 Non-Null Count  Dtype  \n",
      "---  ------                 --------------  -----  \n",
      " 0   sentiments             17340 non-null  object \n",
      " 1   cleaned_review         17337 non-null  object \n",
      " 2   cleaned_review_length  17340 non-null  int64  \n",
      " 3   review_score           17340 non-null  float64\n",
      "dtypes: float64(1), int64(1), object(2)\n",
      "memory usage: 542.0+ KB\n"
     ]
    }
   ],
   "source": [
    "data.info()"
   ]
  },
  {
   "cell_type": "code",
   "execution_count": null,
   "metadata": {},
   "outputs": [],
   "source": []
  },
  {
   "cell_type": "code",
   "execution_count": 173,
   "metadata": {},
   "outputs": [
    {
     "data": {
      "text/html": [
       "<div>\n",
       "<style scoped>\n",
       "    .dataframe tbody tr th:only-of-type {\n",
       "        vertical-align: middle;\n",
       "    }\n",
       "\n",
       "    .dataframe tbody tr th {\n",
       "        vertical-align: top;\n",
       "    }\n",
       "\n",
       "    .dataframe thead th {\n",
       "        text-align: right;\n",
       "    }\n",
       "</style>\n",
       "<table border=\"1\" class=\"dataframe\">\n",
       "  <thead>\n",
       "    <tr style=\"text-align: right;\">\n",
       "      <th></th>\n",
       "      <th>sentiments</th>\n",
       "      <th>cleaned_review</th>\n",
       "      <th>cleaned_review_length</th>\n",
       "      <th>review_score</th>\n",
       "    </tr>\n",
       "  </thead>\n",
       "  <tbody>\n",
       "    <tr>\n",
       "      <th>0</th>\n",
       "      <td>positive</td>\n",
       "      <td>i wish would have gotten one earlier love it a...</td>\n",
       "      <td>19</td>\n",
       "      <td>5.0</td>\n",
       "    </tr>\n",
       "    <tr>\n",
       "      <th>1</th>\n",
       "      <td>neutral</td>\n",
       "      <td>i ve learned this lesson again open the packag...</td>\n",
       "      <td>88</td>\n",
       "      <td>1.0</td>\n",
       "    </tr>\n",
       "    <tr>\n",
       "      <th>2</th>\n",
       "      <td>neutral</td>\n",
       "      <td>it is so slow and lags find better option</td>\n",
       "      <td>9</td>\n",
       "      <td>2.0</td>\n",
       "    </tr>\n",
       "    <tr>\n",
       "      <th>3</th>\n",
       "      <td>neutral</td>\n",
       "      <td>roller ball stopped working within months of m...</td>\n",
       "      <td>12</td>\n",
       "      <td>1.0</td>\n",
       "    </tr>\n",
       "    <tr>\n",
       "      <th>4</th>\n",
       "      <td>neutral</td>\n",
       "      <td>i like the color and size but it few days out ...</td>\n",
       "      <td>21</td>\n",
       "      <td>1.0</td>\n",
       "    </tr>\n",
       "  </tbody>\n",
       "</table>\n",
       "</div>"
      ],
      "text/plain": [
       "  sentiments                                     cleaned_review  \\\n",
       "0   positive  i wish would have gotten one earlier love it a...   \n",
       "1    neutral  i ve learned this lesson again open the packag...   \n",
       "2    neutral          it is so slow and lags find better option   \n",
       "3    neutral  roller ball stopped working within months of m...   \n",
       "4    neutral  i like the color and size but it few days out ...   \n",
       "\n",
       "   cleaned_review_length  review_score  \n",
       "0                     19           5.0  \n",
       "1                     88           1.0  \n",
       "2                      9           2.0  \n",
       "3                     12           1.0  \n",
       "4                     21           1.0  "
      ]
     },
     "execution_count": 173,
     "metadata": {},
     "output_type": "execute_result"
    }
   ],
   "source": [
    "data.head(n=5)"
   ]
  },
  {
   "attachments": {},
   "cell_type": "markdown",
   "metadata": {},
   "source": [
    "## Checking Null values:"
   ]
  },
  {
   "cell_type": "code",
   "execution_count": 174,
   "metadata": {},
   "outputs": [
    {
     "data": {
      "text/plain": [
       "sentiments               0\n",
       "cleaned_review           3\n",
       "cleaned_review_length    0\n",
       "review_score             0\n",
       "dtype: int64"
      ]
     },
     "execution_count": 174,
     "metadata": {},
     "output_type": "execute_result"
    }
   ],
   "source": [
    "data.isnull().sum()"
   ]
  },
  {
   "attachments": {},
   "cell_type": "markdown",
   "metadata": {},
   "source": [
    "### Droppingt missing cases"
   ]
  },
  {
   "cell_type": "code",
   "execution_count": 175,
   "metadata": {},
   "outputs": [],
   "source": [
    "data = data.dropna()"
   ]
  },
  {
   "cell_type": "code",
   "execution_count": 176,
   "metadata": {},
   "outputs": [
    {
     "data": {
      "text/html": [
       "<div>\n",
       "<style scoped>\n",
       "    .dataframe tbody tr th:only-of-type {\n",
       "        vertical-align: middle;\n",
       "    }\n",
       "\n",
       "    .dataframe tbody tr th {\n",
       "        vertical-align: top;\n",
       "    }\n",
       "\n",
       "    .dataframe thead th {\n",
       "        text-align: right;\n",
       "    }\n",
       "</style>\n",
       "<table border=\"1\" class=\"dataframe\">\n",
       "  <thead>\n",
       "    <tr style=\"text-align: right;\">\n",
       "      <th></th>\n",
       "      <th>cleaned_review_length</th>\n",
       "      <th>review_score</th>\n",
       "    </tr>\n",
       "  </thead>\n",
       "  <tbody>\n",
       "    <tr>\n",
       "      <th>count</th>\n",
       "      <td>17337.000000</td>\n",
       "      <td>17337.000000</td>\n",
       "    </tr>\n",
       "    <tr>\n",
       "      <th>mean</th>\n",
       "      <td>30.305705</td>\n",
       "      <td>3.648901</td>\n",
       "    </tr>\n",
       "    <tr>\n",
       "      <th>std</th>\n",
       "      <td>35.837424</td>\n",
       "      <td>1.673580</td>\n",
       "    </tr>\n",
       "    <tr>\n",
       "      <th>min</th>\n",
       "      <td>0.000000</td>\n",
       "      <td>1.000000</td>\n",
       "    </tr>\n",
       "    <tr>\n",
       "      <th>25%</th>\n",
       "      <td>9.000000</td>\n",
       "      <td>2.000000</td>\n",
       "    </tr>\n",
       "    <tr>\n",
       "      <th>50%</th>\n",
       "      <td>20.000000</td>\n",
       "      <td>5.000000</td>\n",
       "    </tr>\n",
       "    <tr>\n",
       "      <th>75%</th>\n",
       "      <td>38.000000</td>\n",
       "      <td>5.000000</td>\n",
       "    </tr>\n",
       "    <tr>\n",
       "      <th>max</th>\n",
       "      <td>571.000000</td>\n",
       "      <td>5.000000</td>\n",
       "    </tr>\n",
       "  </tbody>\n",
       "</table>\n",
       "</div>"
      ],
      "text/plain": [
       "       cleaned_review_length  review_score\n",
       "count           17337.000000  17337.000000\n",
       "mean               30.305705      3.648901\n",
       "std                35.837424      1.673580\n",
       "min                 0.000000      1.000000\n",
       "25%                 9.000000      2.000000\n",
       "50%                20.000000      5.000000\n",
       "75%                38.000000      5.000000\n",
       "max               571.000000      5.000000"
      ]
     },
     "execution_count": 176,
     "metadata": {},
     "output_type": "execute_result"
    }
   ],
   "source": [
    "# check summary statistics of numeric columns\n",
    "data.describe()"
   ]
  },
  {
   "cell_type": "code",
   "execution_count": 177,
   "metadata": {},
   "outputs": [
    {
     "data": {
      "text/plain": [
       "positive    9503\n",
       "neutral     6300\n",
       "negative    1534\n",
       "Name: sentiments, dtype: int64"
      ]
     },
     "execution_count": 177,
     "metadata": {},
     "output_type": "execute_result"
    }
   ],
   "source": [
    "# check the distribution  of sentiments\n",
    "data['sentiments'].value_counts()"
   ]
  },
  {
   "attachments": {},
   "cell_type": "markdown",
   "metadata": {},
   "source": [
    "### Visualization of sentiment and review score"
   ]
  },
  {
   "cell_type": "code",
   "execution_count": 178,
   "metadata": {},
   "outputs": [
    {
     "data": {
      "image/png": "[encoded data removed]",
      "text/plain": [
       "<Figure size 800x600 with 1 Axes>"
      ]
     },
     "metadata": {},
     "output_type": "display_data"
    }
   ],
   "source": [
    "sns.set(rc={'figure.figsize':(8,6)})\n",
    "sns.set_style(\"whitegrid\")\n",
    "sns.set_context(\"notebook\", font_scale=1.2)\n",
    "sns.set_palette(\"pastel\")\n",
    "sns.countplot(x=\"review_score\", data=data, hue='sentiments')\n",
    "plt.show()"
   ]
  },
  {
   "attachments": {},
   "cell_type": "markdown",
   "metadata": {},
   "source": [
    "### Distribution of Cleaned Review Length by Sentiment"
   ]
  },
  {
   "cell_type": "code",
   "execution_count": 179,
   "metadata": {},
   "outputs": [
    {
     "data": {
      "image/png": "[encoded data removed]",
      "text/plain": [
       "<Figure size 800x600 with 1 Axes>"
      ]
     },
     "metadata": {},
     "output_type": "display_data"
    }
   ],
   "source": [
    "# set figure size and adjust bar spacing\n",
    "sns.set(rc={'figure.figsize':(8,6)})\n",
    "sns.set_style(\"whitegrid\")\n",
    "sns.set_context(\"notebook\", font_scale=1.2)\n",
    "sns.set_palette(\"pastel\")\n",
    "sns.countplot(x='cleaned_review_length', data=data, dodge=True) #, hue= 'sentiments')\n",
    "\n",
    "# add axis labels and title\n",
    "plt.xlabel('Cleaned Review Length')\n",
    "plt.ylabel('Count')\n",
    "plt.title('Distribution of Cleaned Review Length by Review Score')\n",
    "\n",
    "# display the plot\n",
    "plt.show()"
   ]
  },
  {
   "attachments": {},
   "cell_type": "markdown",
   "metadata": {},
   "source": [
    "## Task1: Check the distribution of Sentiments. \n",
    "\n",
    "### Then combine the neutral & positive as Positive thereby making this data suitable for binary classification task."
   ]
  },
  {
   "cell_type": "code",
   "execution_count": 180,
   "metadata": {},
   "outputs": [
    {
     "data": {
      "image/png": "[encoded data removed]",
      "text/plain": [
       "<Figure size 800x600 with 1 Axes>"
      ]
     },
     "metadata": {},
     "output_type": "display_data"
    }
   ],
   "source": [
    "# Plot a bar chart of the sentiment counts using seaborn\n",
    "sns.countplot(x='sentiments', data=data)\n",
    "# Set the title of the chart\n",
    "plt.title('Distribution of the Sentiments', fontdict={'size': 20, 'weight': 'bold', 'color': 'green'})\n",
    "# Show the chart\n",
    "plt.show()"
   ]
  },
  {
   "cell_type": "code",
   "execution_count": 181,
   "metadata": {},
   "outputs": [
    {
     "name": "stdout",
     "output_type": "stream",
     "text": [
      "Positive    15803\n",
      "Negative     1534\n",
      "Name: sentiments, dtype: int64\n"
     ]
    }
   ],
   "source": [
    "# Lets create a clean data set and then wrangle the data to combine neutral and positive into positive\n",
    "data_clean=data\n",
    "# combine neutral and positive into positive\n",
    "data_clean['sentiments'] = data_clean['sentiments'].apply(lambda x: 'Positive' if x in ['neutral', 'positive'] else 'Negative')\n",
    "\n",
    "# print the new value counts\n",
    "print(data_clean['sentiments'].value_counts())"
   ]
  },
  {
   "cell_type": "code",
   "execution_count": 182,
   "metadata": {},
   "outputs": [
    {
     "data": {
      "image/png": "[encoded data removed]",
      "text/plain": [
       "<Figure size 800x600 with 1 Axes>"
      ]
     },
     "metadata": {},
     "output_type": "display_data"
    }
   ],
   "source": [
    "# Plot a bar chart of the sentiment counts using seaborn using the cleam dataset\n",
    "sns.countplot(x='sentiments', data=data_clean)\n",
    "# Set the title of the chart\n",
    "plt.title('Distribution of the Sentiments', fontdict={'size': 20, 'weight': 'bold', 'color': 'green'})\n",
    "# Show the chart\n",
    "plt.show()"
   ]
  },
  {
   "attachments": {},
   "cell_type": "markdown",
   "metadata": {},
   "source": [
    "##  Task 2. Remove standard stopwords and punctuations from the text using NLTK library. \n",
    "Then get the top frequent words in the text and analyze it to add a custom stoplist if a word has high frequency but not enough meaning to identify emotions."
   ]
  },
  {
   "attachments": {},
   "cell_type": "markdown",
   "metadata": {},
   "source": [
    "### Tokenization"
   ]
  },
  {
   "cell_type": "code",
   "execution_count": 183,
   "metadata": {},
   "outputs": [
    {
     "data": {
      "text/plain": [
       "True"
      ]
     },
     "execution_count": 183,
     "metadata": {},
     "output_type": "execute_result"
    }
   ],
   "source": [
    "# download wordnet stopwords and punkt from NLTK\n",
    "import nltk\n",
    "nltk.download('wordnet','punkt','stopwords')\n"
   ]
  },
  {
   "attachments": {},
   "cell_type": "markdown",
   "metadata": {},
   "source": [
    "### Tokenization"
   ]
  },
  {
   "cell_type": "code",
   "execution_count": 184,
   "metadata": {},
   "outputs": [
    {
     "data": {
      "text/html": [
       "<div>\n",
       "<style scoped>\n",
       "    .dataframe tbody tr th:only-of-type {\n",
       "        vertical-align: middle;\n",
       "    }\n",
       "\n",
       "    .dataframe tbody tr th {\n",
       "        vertical-align: top;\n",
       "    }\n",
       "\n",
       "    .dataframe thead th {\n",
       "        text-align: right;\n",
       "    }\n",
       "</style>\n",
       "<table border=\"1\" class=\"dataframe\">\n",
       "  <thead>\n",
       "    <tr style=\"text-align: right;\">\n",
       "      <th></th>\n",
       "      <th>sentiments</th>\n",
       "      <th>cleaned_review</th>\n",
       "    </tr>\n",
       "  </thead>\n",
       "  <tbody>\n",
       "    <tr>\n",
       "      <th>0</th>\n",
       "      <td>Positive</td>\n",
       "      <td>i wish would have gotten one earlier love it a...</td>\n",
       "    </tr>\n",
       "    <tr>\n",
       "      <th>1</th>\n",
       "      <td>Positive</td>\n",
       "      <td>i ve learned this lesson again open the packag...</td>\n",
       "    </tr>\n",
       "    <tr>\n",
       "      <th>2</th>\n",
       "      <td>Positive</td>\n",
       "      <td>it is so slow and lags find better option</td>\n",
       "    </tr>\n",
       "    <tr>\n",
       "      <th>3</th>\n",
       "      <td>Positive</td>\n",
       "      <td>roller ball stopped working within months of m...</td>\n",
       "    </tr>\n",
       "    <tr>\n",
       "      <th>4</th>\n",
       "      <td>Positive</td>\n",
       "      <td>i like the color and size but it few days out ...</td>\n",
       "    </tr>\n",
       "  </tbody>\n",
       "</table>\n",
       "</div>"
      ],
      "text/plain": [
       "  sentiments                                     cleaned_review\n",
       "0   Positive  i wish would have gotten one earlier love it a...\n",
       "1   Positive  i ve learned this lesson again open the packag...\n",
       "2   Positive          it is so slow and lags find better option\n",
       "3   Positive  roller ball stopped working within months of m...\n",
       "4   Positive  i like the color and size but it few days out ..."
      ]
     },
     "execution_count": 184,
     "metadata": {},
     "output_type": "execute_result"
    }
   ],
   "source": [
    "data_clean_final=data_clean[['sentiments','cleaned_review']]\n",
    "data_clean_final.head()"
   ]
  },
  {
   "cell_type": "code",
   "execution_count": 185,
   "metadata": {},
   "outputs": [
    {
     "data": {
      "text/plain": [
       "'roller ball stopped working within months of minimal use piece of junk '"
      ]
     },
     "execution_count": 185,
     "metadata": {},
     "output_type": "execute_result"
    }
   ],
   "source": [
    "data_clean_final.loc[3,'cleaned_review']"
   ]
  },
  {
   "cell_type": "code",
   "execution_count": 186,
   "metadata": {},
   "outputs": [
    {
     "data": {
      "text/plain": [
       "['i liked the wireless mouse however after months the roller on the mouse stopped working which leaves me not being able to scroll up or down on my pc ll have to look into buying more sturdy mouse']"
      ]
     },
     "execution_count": 186,
     "metadata": {},
     "output_type": "execute_result"
    }
   ],
   "source": [
    "sent_tokenize(data_clean_final.loc[13,'cleaned_review'])"
   ]
  },
  {
   "cell_type": "code",
   "execution_count": 187,
   "metadata": {},
   "outputs": [
    {
     "data": {
      "text/plain": [
       "['i',\n",
       " 'liked',\n",
       " 'the',\n",
       " 'wireless',\n",
       " 'mouse',\n",
       " 'however',\n",
       " 'after',\n",
       " 'months',\n",
       " 'the',\n",
       " 'roller',\n",
       " 'on',\n",
       " 'the',\n",
       " 'mouse',\n",
       " 'stopped',\n",
       " 'working',\n",
       " 'which',\n",
       " 'leaves',\n",
       " 'me',\n",
       " 'not',\n",
       " 'being',\n",
       " 'able',\n",
       " 'to',\n",
       " 'scroll',\n",
       " 'up',\n",
       " 'or',\n",
       " 'down',\n",
       " 'on',\n",
       " 'my',\n",
       " 'pc',\n",
       " 'll',\n",
       " 'have',\n",
       " 'to',\n",
       " 'look',\n",
       " 'into',\n",
       " 'buying',\n",
       " 'more',\n",
       " 'sturdy',\n",
       " 'mouse']"
      ]
     },
     "execution_count": 187,
     "metadata": {},
     "output_type": "execute_result"
    }
   ],
   "source": [
    "word_tokenize(data_clean_final.loc[13,'cleaned_review'])"
   ]
  },
  {
   "attachments": {},
   "cell_type": "markdown",
   "metadata": {},
   "source": [
    "## Task 3. Convert the text to lowercase, apply stemming, lemmatization, and remove numbers from the review column."
   ]
  },
  {
   "attachments": {},
   "cell_type": "markdown",
   "metadata": {},
   "source": [
    "### Converting text to lowercae"
   ]
  },
  {
   "cell_type": "code",
   "execution_count": 188,
   "metadata": {},
   "outputs": [
    {
     "data": {
      "text/plain": [
       "17337"
      ]
     },
     "execution_count": 188,
     "metadata": {},
     "output_type": "execute_result"
    }
   ],
   "source": [
    "# convert text to lower case\n",
    "reviews=list(data_clean_final['cleaned_review'])\n",
    "len(reviews)"
   ]
  },
  {
   "cell_type": "code",
   "execution_count": 189,
   "metadata": {},
   "outputs": [
    {
     "data": {
      "text/plain": [
       "'i got this for my daughter for school it is perfect and appeals to her teenage likes'"
      ]
     },
     "execution_count": 189,
     "metadata": {},
     "output_type": "execute_result"
    }
   ],
   "source": [
    "reviews[2533]"
   ]
  },
  {
   "cell_type": "code",
   "execution_count": 190,
   "metadata": {},
   "outputs": [
    {
     "data": {
      "text/plain": [
       "'i got this for my daughter for school it is perfect and appeals to her teenage likes'"
      ]
     },
     "execution_count": 190,
     "metadata": {},
     "output_type": "execute_result"
    }
   ],
   "source": [
    "reviews[2533].lower()"
   ]
  },
  {
   "cell_type": "code",
   "execution_count": 191,
   "metadata": {},
   "outputs": [],
   "source": [
    "reviews_lower = []\n",
    "for review in reviews:\n",
    "    if isinstance(review, str):\n",
    "        reviews_lower.append(review.lower())\n",
    "    else:\n",
    "        reviews_lower.append(str(review).lower())\n",
    "\n",
    "\n",
    "\n"
   ]
  },
  {
   "cell_type": "code",
   "execution_count": 192,
   "metadata": {},
   "outputs": [],
   "source": [
    "tokens =[word_tokenize(r) for r in reviews_lower]"
   ]
  },
  {
   "cell_type": "code",
   "execution_count": 193,
   "metadata": {},
   "outputs": [
    {
     "data": {
      "text/plain": [
       "['i',\n",
       " 'like',\n",
       " 'the',\n",
       " 'feel',\n",
       " 'and',\n",
       " 'look',\n",
       " 'of',\n",
       " 'this',\n",
       " 'mouse',\n",
       " 'bought',\n",
       " 'it',\n",
       " 'as',\n",
       " 'deal',\n",
       " 'of',\n",
       " 'the',\n",
       " 'day',\n",
       " 'really',\n",
       " 'like',\n",
       " 'how',\n",
       " 'it',\n",
       " 'changes',\n",
       " 'colors',\n",
       " 'and',\n",
       " 'how',\n",
       " 'smooth',\n",
       " 'it',\n",
       " 'feels',\n",
       " 'also',\n",
       " 'love',\n",
       " 'that',\n",
       " 'you',\n",
       " 'can',\n",
       " 'recharge',\n",
       " 'it',\n",
       " 'only',\n",
       " 'dislike',\n",
       " 'is',\n",
       " 'that',\n",
       " 'review',\n",
       " 'and',\n",
       " 'edit',\n",
       " 'important',\n",
       " 'documents',\n",
       " 'for',\n",
       " 'work',\n",
       " 'and',\n",
       " 'sometimes',\n",
       " 'the',\n",
       " 'cursor',\n",
       " 'would',\n",
       " 'move',\n",
       " 'unexpectedly',\n",
       " 'and',\n",
       " 'will',\n",
       " 'cause',\n",
       " 'me',\n",
       " 'to',\n",
       " 'type',\n",
       " 'something',\n",
       " 'wasn',\n",
       " 'trying',\n",
       " 'to',\n",
       " 'type',\n",
       " 'll',\n",
       " 'have',\n",
       " 'to',\n",
       " 'undo',\n",
       " 'whatever',\n",
       " 'did',\n",
       " 'other',\n",
       " 'than',\n",
       " 'that',\n",
       " 'good',\n",
       " 'price',\n",
       " 'and',\n",
       " 'quality']"
      ]
     },
     "execution_count": 193,
     "metadata": {},
     "output_type": "execute_result"
    }
   ],
   "source": [
    "tokens[1344]"
   ]
  },
  {
   "attachments": {},
   "cell_type": "markdown",
   "metadata": {},
   "source": [
    "### Stopword removals"
   ]
  },
  {
   "cell_type": "code",
   "execution_count": 194,
   "metadata": {},
   "outputs": [],
   "source": [
    "sw = stopwords.words('english')"
   ]
  },
  {
   "cell_type": "code",
   "execution_count": 195,
   "metadata": {},
   "outputs": [],
   "source": [
    "## Looping a list of tokens  sublist\n",
    "tokens = [[word for word in t if word not in sw] for t in tokens]"
   ]
  },
  {
   "cell_type": "code",
   "execution_count": 196,
   "metadata": {},
   "outputs": [
    {
     "data": {
      "text/plain": [
       "['like',\n",
       " 'feel',\n",
       " 'look',\n",
       " 'mouse',\n",
       " 'bought',\n",
       " 'deal',\n",
       " 'day',\n",
       " 'really',\n",
       " 'like',\n",
       " 'changes',\n",
       " 'colors',\n",
       " 'smooth',\n",
       " 'feels',\n",
       " 'also',\n",
       " 'love',\n",
       " 'recharge',\n",
       " 'dislike',\n",
       " 'review',\n",
       " 'edit',\n",
       " 'important',\n",
       " 'documents',\n",
       " 'work',\n",
       " 'sometimes',\n",
       " 'cursor',\n",
       " 'would',\n",
       " 'move',\n",
       " 'unexpectedly',\n",
       " 'cause',\n",
       " 'type',\n",
       " 'something',\n",
       " 'trying',\n",
       " 'type',\n",
       " 'undo',\n",
       " 'whatever',\n",
       " 'good',\n",
       " 'price',\n",
       " 'quality']"
      ]
     },
     "execution_count": 196,
     "metadata": {},
     "output_type": "execute_result"
    }
   ],
   "source": [
    "tokens[1344]"
   ]
  },
  {
   "cell_type": "code",
   "execution_count": 197,
   "metadata": {},
   "outputs": [
    {
     "data": {
      "text/plain": [
       "'i like the feel and look of this mouse bought it as deal of the day really like how it changes colors and how smooth it feels also love that you can recharge it only dislike is that review and edit important documents for work and sometimes the cursor would move unexpectedly and will cause me to type something wasn trying to type ll have to undo whatever did other than that good price and quality '"
      ]
     },
     "execution_count": 197,
     "metadata": {},
     "output_type": "execute_result"
    }
   ],
   "source": [
    "reviews[1344]"
   ]
  },
  {
   "attachments": {},
   "cell_type": "markdown",
   "metadata": {},
   "source": [
    "### Remove punctuation marks"
   ]
  },
  {
   "cell_type": "code",
   "execution_count": 198,
   "metadata": {},
   "outputs": [],
   "source": [
    "tokenizer = RegexpTokenizer(r'\\w+')"
   ]
  },
  {
   "cell_type": "code",
   "execution_count": 199,
   "metadata": {},
   "outputs": [],
   "source": [
    "tokens= [[\" \".join(tokenizer.tokenize(word)) for word in t if len(tokenizer.tokenize(word))>0] for t in tokens]"
   ]
  },
  {
   "cell_type": "code",
   "execution_count": 200,
   "metadata": {},
   "outputs": [
    {
     "data": {
      "text/plain": [
       "['like',\n",
       " 'feel',\n",
       " 'look',\n",
       " 'mouse',\n",
       " 'bought',\n",
       " 'deal',\n",
       " 'day',\n",
       " 'really',\n",
       " 'like',\n",
       " 'changes',\n",
       " 'colors',\n",
       " 'smooth',\n",
       " 'feels',\n",
       " 'also',\n",
       " 'love',\n",
       " 'recharge',\n",
       " 'dislike',\n",
       " 'review',\n",
       " 'edit',\n",
       " 'important',\n",
       " 'documents',\n",
       " 'work',\n",
       " 'sometimes',\n",
       " 'cursor',\n",
       " 'would',\n",
       " 'move',\n",
       " 'unexpectedly',\n",
       " 'cause',\n",
       " 'type',\n",
       " 'something',\n",
       " 'trying',\n",
       " 'type',\n",
       " 'undo',\n",
       " 'whatever',\n",
       " 'good',\n",
       " 'price',\n",
       " 'quality']"
      ]
     },
     "execution_count": 200,
     "metadata": {},
     "output_type": "execute_result"
    }
   ],
   "source": [
    "tokens[1344]"
   ]
  },
  {
   "cell_type": "code",
   "execution_count": 201,
   "metadata": {},
   "outputs": [
    {
     "data": {
      "text/plain": [
       "'i like the feel and look of this mouse bought it as deal of the day really like how it changes colors and how smooth it feels also love that you can recharge it only dislike is that review and edit important documents for work and sometimes the cursor would move unexpectedly and will cause me to type something wasn trying to type ll have to undo whatever did other than that good price and quality '"
      ]
     },
     "execution_count": 201,
     "metadata": {},
     "output_type": "execute_result"
    }
   ],
   "source": [
    "reviews[1344]"
   ]
  },
  {
   "attachments": {},
   "cell_type": "markdown",
   "metadata": {},
   "source": [
    "### Stemming"
   ]
  },
  {
   "cell_type": "code",
   "execution_count": 202,
   "metadata": {},
   "outputs": [],
   "source": [
    "porter=PorterStemmer()\n",
    "lancanster =LancasterStemmer()\n"
   ]
  },
  {
   "cell_type": "code",
   "execution_count": 203,
   "metadata": {},
   "outputs": [],
   "source": [
    "tokens = [[ porter.stem(word)for word in t] for t in tokens]"
   ]
  },
  {
   "cell_type": "code",
   "execution_count": 204,
   "metadata": {},
   "outputs": [
    {
     "data": {
      "text/plain": [
       "['like',\n",
       " 'feel',\n",
       " 'look',\n",
       " 'mous',\n",
       " 'bought',\n",
       " 'deal',\n",
       " 'day',\n",
       " 'realli',\n",
       " 'like',\n",
       " 'chang',\n",
       " 'color',\n",
       " 'smooth',\n",
       " 'feel',\n",
       " 'also',\n",
       " 'love',\n",
       " 'recharg',\n",
       " 'dislik',\n",
       " 'review',\n",
       " 'edit',\n",
       " 'import',\n",
       " 'document',\n",
       " 'work',\n",
       " 'sometim',\n",
       " 'cursor',\n",
       " 'would',\n",
       " 'move',\n",
       " 'unexpectedli',\n",
       " 'caus',\n",
       " 'type',\n",
       " 'someth',\n",
       " 'tri',\n",
       " 'type',\n",
       " 'undo',\n",
       " 'whatev',\n",
       " 'good',\n",
       " 'price',\n",
       " 'qualiti']"
      ]
     },
     "execution_count": 204,
     "metadata": {},
     "output_type": "execute_result"
    }
   ],
   "source": [
    "tokens[1344]"
   ]
  },
  {
   "cell_type": "code",
   "execution_count": 205,
   "metadata": {},
   "outputs": [
    {
     "data": {
      "text/plain": [
       "['like',\n",
       " 'feel',\n",
       " 'look',\n",
       " 'mous',\n",
       " 'bought',\n",
       " 'deal',\n",
       " 'day',\n",
       " 'realli',\n",
       " 'like',\n",
       " 'chang',\n",
       " 'color',\n",
       " 'smooth',\n",
       " 'feel',\n",
       " 'also',\n",
       " 'love',\n",
       " 'recharg',\n",
       " 'dislik',\n",
       " 'review',\n",
       " 'edit',\n",
       " 'import',\n",
       " 'document',\n",
       " 'work',\n",
       " 'sometim',\n",
       " 'cursor',\n",
       " 'would',\n",
       " 'move',\n",
       " 'unexpectedli',\n",
       " 'caus',\n",
       " 'type',\n",
       " 'someth',\n",
       " 'tri',\n",
       " 'type',\n",
       " 'undo',\n",
       " 'whatev',\n",
       " 'good',\n",
       " 'price',\n",
       " 'qualiti']"
      ]
     },
     "execution_count": 205,
     "metadata": {},
     "output_type": "execute_result"
    }
   ],
   "source": [
    "tokens[1344]"
   ]
  },
  {
   "cell_type": "code",
   "execution_count": null,
   "metadata": {},
   "outputs": [],
   "source": []
  },
  {
   "cell_type": "code",
   "execution_count": null,
   "metadata": {},
   "outputs": [],
   "source": []
  },
  {
   "attachments": {},
   "cell_type": "markdown",
   "metadata": {},
   "source": [
    "## Task 4.\tCreate and visualize a word cloud from the final prepared text. "
   ]
  },
  {
   "attachments": {},
   "cell_type": "markdown",
   "metadata": {},
   "source": [
    "### Word count ditribution"
   ]
  },
  {
   "cell_type": "code",
   "execution_count": 206,
   "metadata": {},
   "outputs": [
    {
     "data": {
      "text/plain": [
       "[['beauti',\n",
       "  'produc',\n",
       "  'love',\n",
       "  'look',\n",
       "  'mous',\n",
       "  'light',\n",
       "  'welcom',\n",
       "  'addit',\n",
       "  'otherwis',\n",
       "  'drab',\n",
       "  'workspac',\n",
       "  'notic',\n",
       "  'tend',\n",
       "  'go',\n",
       "  'sleep',\n",
       "  'mode',\n",
       "  'quickli',\n",
       "  'take',\n",
       "  'longer',\n",
       "  'wake',\n",
       "  'time',\n",
       "  'expect',\n",
       "  'screen',\n",
       "  'busi',\n",
       "  'window',\n",
       "  'cursor',\n",
       "  'freez',\n",
       "  'posit',\n",
       "  'mous',\n",
       "  'fulli',\n",
       "  'come',\n",
       "  'back',\n",
       "  'life',\n",
       "  'frustrat',\n",
       "  'anyon',\n",
       "  'patient'],\n",
       " ['first',\n",
       "  'one',\n",
       "  'broke',\n",
       "  'week',\n",
       "  'sent',\n",
       "  'replac',\n",
       "  'return',\n",
       "  'broken',\n",
       "  'one',\n",
       "  'still',\n",
       "  'process',\n",
       "  'return',\n",
       "  'new',\n",
       "  'one',\n",
       "  'broke',\n",
       "  'week',\n",
       "  'later',\n",
       "  'would',\n",
       "  'recommend',\n",
       "  'mous'],\n",
       " ['typic',\n",
       "  'write',\n",
       "  'review',\n",
       "  'keep',\n",
       "  'issu',\n",
       "  'tech',\n",
       "  'product',\n",
       "  'amazon',\n",
       "  'mous',\n",
       "  'stop',\n",
       "  'work',\n",
       "  'month',\n",
       "  'use',\n",
       "  'charg',\n",
       "  'sometim',\n",
       "  'get',\n",
       "  'short',\n",
       "  'term',\n",
       "  'use',\n",
       "  'glitchi',\n",
       "  'lag',\n",
       "  'across',\n",
       "  'screen'],\n",
       " ['like',\n",
       "  'wireless',\n",
       "  'mous',\n",
       "  'howev',\n",
       "  'month',\n",
       "  'roller',\n",
       "  'mous',\n",
       "  'stop',\n",
       "  'work',\n",
       "  'leav',\n",
       "  'abl',\n",
       "  'scroll',\n",
       "  'pc',\n",
       "  'look',\n",
       "  'buy',\n",
       "  'sturdi',\n",
       "  'mous'],\n",
       " ['wheel',\n",
       "  'mous',\n",
       "  'work',\n",
       "  'anymor',\n",
       "  'last',\n",
       "  'month',\n",
       "  'realli',\n",
       "  'nice',\n",
       "  'mous',\n",
       "  'last']]"
      ]
     },
     "execution_count": 206,
     "metadata": {},
     "output_type": "execute_result"
    }
   ],
   "source": [
    "tokens[10:15]"
   ]
  },
  {
   "cell_type": "code",
   "execution_count": 207,
   "metadata": {},
   "outputs": [],
   "source": [
    "flat_tokens= [word for t in tokens for word in t]"
   ]
  },
  {
   "cell_type": "code",
   "execution_count": 208,
   "metadata": {},
   "outputs": [
    {
     "data": {
      "text/plain": [
       "271695"
      ]
     },
     "execution_count": 208,
     "metadata": {},
     "output_type": "execute_result"
    }
   ],
   "source": [
    "len(flat_tokens)"
   ]
  },
  {
   "cell_type": "code",
   "execution_count": 209,
   "metadata": {},
   "outputs": [
    {
     "data": {
      "text/plain": [
       "['wish',\n",
       " 'would',\n",
       " 'gotten',\n",
       " 'one',\n",
       " 'earlier',\n",
       " 'love',\n",
       " 'make',\n",
       " 'work',\n",
       " 'laptop',\n",
       " 'much']"
      ]
     },
     "execution_count": 209,
     "metadata": {},
     "output_type": "execute_result"
    }
   ],
   "source": [
    "flat_tokens[:10]"
   ]
  },
  {
   "cell_type": "code",
   "execution_count": 210,
   "metadata": {},
   "outputs": [],
   "source": [
    "counts=Counter(flat_tokens)"
   ]
  },
  {
   "cell_type": "code",
   "execution_count": 211,
   "metadata": {},
   "outputs": [
    {
     "data": {
      "text/plain": [
       "6429"
      ]
     },
     "execution_count": 211,
     "metadata": {},
     "output_type": "execute_result"
    }
   ],
   "source": [
    "len(counts)"
   ]
  },
  {
   "cell_type": "code",
   "execution_count": 212,
   "metadata": {},
   "outputs": [
    {
     "data": {
      "text/plain": [
       "[('work', 7481),\n",
       " ('mous', 6586),\n",
       " ('use', 5664),\n",
       " ('great', 4608),\n",
       " ('charg', 4214),\n",
       " ('sound', 3586),\n",
       " ('love', 3333),\n",
       " ('good', 2985),\n",
       " ('like', 2879),\n",
       " ('light', 2842)]"
      ]
     },
     "execution_count": 212,
     "metadata": {},
     "output_type": "execute_result"
    }
   ],
   "source": [
    "counts.most_common(10)"
   ]
  },
  {
   "attachments": {},
   "cell_type": "markdown",
   "metadata": {},
   "source": [
    "### Bag of words"
   ]
  },
  {
   "cell_type": "code",
   "execution_count": 213,
   "metadata": {},
   "outputs": [],
   "source": [
    "clean_reviews = [\" \".join(t) for t in tokens]"
   ]
  },
  {
   "cell_type": "code",
   "execution_count": 214,
   "metadata": {},
   "outputs": [
    {
     "data": {
      "text/plain": [
       "'like feel look mous bought deal day realli like chang color smooth feel also love recharg dislik review edit import document work sometim cursor would move unexpectedli caus type someth tri type undo whatev good price qualiti'"
      ]
     },
     "execution_count": 214,
     "metadata": {},
     "output_type": "execute_result"
    }
   ],
   "source": [
    "clean_reviews[1344]"
   ]
  },
  {
   "cell_type": "code",
   "execution_count": 240,
   "metadata": {},
   "outputs": [
    {
     "data": {
      "image/png": "[encoded data removed]",
      "text/plain": [
       "<Figure size 1500x1500 with 1 Axes>"
      ]
     },
     "metadata": {},
     "output_type": "display_data"
    }
   ],
   "source": [
    "from wordcloud import WordCloud, STOPWORDS\n",
    "\n",
    "stopwords = set(STOPWORDS)\n",
    "\n",
    "def wordcloud(data, title = None):\n",
    "    wordcloud = WordCloud(\n",
    "        background_color='white',\n",
    "        stopwords=stopwords,\n",
    "        max_words=250,\n",
    "        max_font_size=30,\n",
    "        scale=2,\n",
    "        random_state=5 #chosen a andom by flipping a coin; it was heads\n",
    "    ).generate(str(data))\n",
    "\n",
    "    fig = plt.figure(1, figsize=(15, 15))\n",
    "    plt.axis('off')\n",
    "    if title: \n",
    "        fig.suptitle(title, fontsize=20)\n",
    "        fig.subplots_adjust(top=2.3)\n",
    "    plt.imshow(wordcloud)\n",
    "    plt.show()\n",
    "\n",
    "wordcloud(data_clean_final['sentiments'])\n"
   ]
  },
  {
   "cell_type": "code",
   "execution_count": null,
   "metadata": {},
   "outputs": [],
   "source": []
  },
  {
   "attachments": {},
   "cell_type": "markdown",
   "metadata": {},
   "source": [
    "## Task 5.\tCreate two datasets - one vectorized using countvectorizer and other using tf-idf vectorizer"
   ]
  },
  {
   "attachments": {},
   "cell_type": "markdown",
   "metadata": {},
   "source": [
    "## Count Vectorizer"
   ]
  },
  {
   "cell_type": "code",
   "execution_count": 216,
   "metadata": {},
   "outputs": [],
   "source": [
    "vect= CountVectorizer(min_df= 5)"
   ]
  },
  {
   "cell_type": "code",
   "execution_count": 217,
   "metadata": {},
   "outputs": [],
   "source": [
    "X=vect.fit_transform(clean_reviews)"
   ]
  },
  {
   "cell_type": "code",
   "execution_count": 218,
   "metadata": {},
   "outputs": [
    {
     "data": {
      "text/plain": [
       "(17337, 2369)"
      ]
     },
     "execution_count": 218,
     "metadata": {},
     "output_type": "execute_result"
    }
   ],
   "source": [
    "X.shape"
   ]
  },
  {
   "attachments": {},
   "cell_type": "markdown",
   "metadata": {},
   "source": [
    "#### Unique words in the Vocabulary"
   ]
  },
  {
   "cell_type": "code",
   "execution_count": 219,
   "metadata": {},
   "outputs": [
    {
     "data": {
      "text/plain": [
       "{'wish': 2316,\n",
       " 'would': 2339,\n",
       " 'gotten': 891,\n",
       " 'one': 1391,\n",
       " 'earlier': 623,\n",
       " 'love': 1194,\n",
       " 'make': 1214,\n",
       " 'work': 2327,\n",
       " 'laptop': 1118,\n",
       " 'much': 1306,\n",
       " 'easier': 630,\n",
       " 'learn': 1135,\n",
       " 'lesson': 1146,\n",
       " 'open': 1395,\n",
       " 'packag': 1426,\n",
       " 'use': 2227,\n",
       " 'product': 1556,\n",
       " 'right': 1701,\n",
       " 'away': 139,\n",
       " 'order': 1403,\n",
       " 'mous': 1299,\n",
       " 'august': 128,\n",
       " 'travel': 2149,\n",
       " 'pack': 1425,\n",
       " 'bag': 154,\n",
       " 'famili': 734,\n",
       " 'sinc': 1836,\n",
       " 'mid': 1260,\n",
       " 'septemb': 1778,\n",
       " 'took': 2124,\n",
       " 'charg': 326,\n",
       " 'fine': 766,\n",
       " 'coupl': 457,\n",
       " 'week': 2282,\n",
       " 'recharg': 1631,\n",
       " 'day': 504,\n",
       " 'two': 2175,\n",
       " 'ceas': 312,\n",
       " 'function': 841,\n",
       " 'optic': 1401,\n",
       " 'light': 1155,\n",
       " 'flash': 783,\n",
       " 'turn': 2169,\n",
       " 'noth': 1362,\n",
       " 'cours': 459,\n",
       " 'return': 1692,\n",
       " 'window': 2309,\n",
       " 'well': 2288,\n",
       " 'past': 1450,\n",
       " 'slow': 1858,\n",
       " 'lag': 1111,\n",
       " 'find': 765,\n",
       " 'better': 196,\n",
       " 'option': 1402,\n",
       " 'roller': 1713,\n",
       " 'ball': 156,\n",
       " 'stop': 1961,\n",
       " 'within': 2317,\n",
       " 'month': 1292,\n",
       " 'minim': 1271,\n",
       " 'piec': 1480,\n",
       " 'junk': 1084,\n",
       " 'like': 1160,\n",
       " 'color': 383,\n",
       " 'size': 1844,\n",
       " 'period': 1467,\n",
       " 'hold': 965,\n",
       " 'overal': 1416,\n",
       " 'weight': 2285,\n",
       " 'click': 368,\n",
       " 'fabul': 719,\n",
       " 'howev': 980,\n",
       " 'middl': 1261,\n",
       " 'scroller': 1753,\n",
       " 'randomli': 1607,\n",
       " 'fallen': 732,\n",
       " 'without': 2318,\n",
       " 'rough': 1718,\n",
       " 'drop': 609,\n",
       " 'liter': 1170,\n",
       " 'even': 678,\n",
       " 'touch': 2130,\n",
       " 'second': 1759,\n",
       " 'time': 2111,\n",
       " 'heard': 941,\n",
       " 'fall': 731,\n",
       " 'need': 1328,\n",
       " 'lot': 1189,\n",
       " 'recommend': 1636,\n",
       " 'purchas': 1584,\n",
       " 'featur': 749,\n",
       " 'great': 899,\n",
       " 'son': 1889,\n",
       " 'school': 1745,\n",
       " 'issu': 1065,\n",
       " 'chromebook': 353,\n",
       " 'hate': 934,\n",
       " 'pad': 1427,\n",
       " 'navig': 1322,\n",
       " 'look': 1184,\n",
       " 'wireless': 2313,\n",
       " 'found': 817,\n",
       " 'mani': 1219,\n",
       " 'good': 887,\n",
       " 'review': 1694,\n",
       " 'unfortun': 2198,\n",
       " 'scroll': 1752,\n",
       " 'wheel': 2294,\n",
       " 'alreadi': 56,\n",
       " 'broken': 255,\n",
       " 'comput': 409,\n",
       " 'mostli': 1295,\n",
       " 'stay': 1948,\n",
       " 'store': 1964,\n",
       " 'safe': 1730,\n",
       " 'carri': 301,\n",
       " 'case': 303,\n",
       " 'care': 298,\n",
       " 'realli': 1624,\n",
       " 'disappoint': 567,\n",
       " 'paid': 1429,\n",
       " 'money': 1289,\n",
       " 'earn': 625,\n",
       " 'help': 952,\n",
       " 'summer': 2006,\n",
       " 'email': 648,\n",
       " 'bottom': 234,\n",
       " 'say': 1742,\n",
       " 'replac': 1671,\n",
       " 'tri': 2153,\n",
       " 'twice': 2173,\n",
       " 'keep': 1089,\n",
       " 'bounc': 236,\n",
       " 'back': 144,\n",
       " 'sure': 2015,\n",
       " 'got': 890,\n",
       " 'dud': 612,\n",
       " 'tell': 2064,\n",
       " 'anyon': 81,\n",
       " 'buy': 278,\n",
       " 'share': 1796,\n",
       " 'experi': 706,\n",
       " 'other': 1407,\n",
       " 'consid': 423,\n",
       " 'cute': 487,\n",
       " 'littl': 1171,\n",
       " 'broke': 254,\n",
       " 'gear': 856,\n",
       " 'spent': 1916,\n",
       " 'get': 861,\n",
       " 'qualiti': 1590,\n",
       " 'thing': 2086,\n",
       " 'worthless': 2338,\n",
       " 'beauti': 176,\n",
       " 'produc': 1555,\n",
       " 'welcom': 2287,\n",
       " 'addit': 25,\n",
       " 'otherwis': 1408,\n",
       " 'workspac': 2331,\n",
       " 'notic': 1363,\n",
       " 'tend': 2067,\n",
       " 'go': 879,\n",
       " 'sleep': 1849,\n",
       " 'mode': 1282,\n",
       " 'quickli': 1594,\n",
       " 'take': 2038,\n",
       " 'longer': 1181,\n",
       " 'wake': 2257,\n",
       " 'expect': 704,\n",
       " 'screen': 1750,\n",
       " 'busi': 275,\n",
       " 'cursor': 481,\n",
       " 'freez': 827,\n",
       " 'posit': 1522,\n",
       " 'fulli': 839,\n",
       " 'come': 388,\n",
       " 'life': 1152,\n",
       " 'frustrat': 835,\n",
       " 'first': 775,\n",
       " 'sent': 1775,\n",
       " 'still': 1958,\n",
       " 'process': 1554,\n",
       " 'new': 1337,\n",
       " 'later': 1126,\n",
       " 'typic': 2177,\n",
       " 'write': 2344,\n",
       " 'tech': 2057,\n",
       " 'amazon': 65,\n",
       " 'sometim': 1886,\n",
       " 'short': 1809,\n",
       " 'term': 2069,\n",
       " 'glitchi': 874,\n",
       " 'across': 16,\n",
       " 'leav': 1137,\n",
       " 'abl': 2,\n",
       " 'pc': 1456,\n",
       " 'sturdi': 1986,\n",
       " 'anymor': 80,\n",
       " 'last': 1122,\n",
       " 'nice': 1340,\n",
       " 'reason': 1625,\n",
       " 'bought': 235,\n",
       " 'late': 1124,\n",
       " 'june': 1083,\n",
       " 'cool': 440,\n",
       " 'give': 867,\n",
       " 'warn': 2266,\n",
       " 'batteri': 170,\n",
       " 'low': 1195,\n",
       " 'kind': 1099,\n",
       " 'weird': 2286,\n",
       " 'stuff': 1983,\n",
       " 'item': 1066,\n",
       " 'etc': 677,\n",
       " 'oh': 1385,\n",
       " 'actual': 20,\n",
       " 'except': 695,\n",
       " 'fact': 721,\n",
       " 'break': 242,\n",
       " 'star': 1941,\n",
       " 'particular': 1443,\n",
       " 'ago': 46,\n",
       " 'excel': 693,\n",
       " 'price': 1542,\n",
       " 'felt': 757,\n",
       " 'easili': 631,\n",
       " 'textur': 2075,\n",
       " 'dirti': 565,\n",
       " 'decemb': 512,\n",
       " 'octob': 1379,\n",
       " 'matter': 1229,\n",
       " 'long': 1180,\n",
       " 'blink': 214,\n",
       " 'red': 1639,\n",
       " 'die': 555,\n",
       " 'ok': 1386,\n",
       " 'gamer': 851,\n",
       " 'quit': 1599,\n",
       " 'bit': 206,\n",
       " 'start': 1942,\n",
       " 'caus': 310,\n",
       " 'crash': 469,\n",
       " 'due': 613,\n",
       " 'refund': 1644,\n",
       " 'ft': 836,\n",
       " 'ground': 906,\n",
       " 'accid': 9,\n",
       " 'spin': 1918,\n",
       " 'left': 1139,\n",
       " 'clicker': 369,\n",
       " 'anoth': 76,\n",
       " 'hope': 974,\n",
       " 'everi': 682,\n",
       " 'design': 540,\n",
       " 'sever': 1788,\n",
       " 'differ': 556,\n",
       " 'way': 2275,\n",
       " 'minut': 1275,\n",
       " 'site': 1841,\n",
       " 'built': 268,\n",
       " 'think': 2087,\n",
       " 'person': 1470,\n",
       " 'game': 849,\n",
       " 'match': 1226,\n",
       " 'tablet': 2034,\n",
       " 'easi': 629,\n",
       " 'transport': 2147,\n",
       " 'feel': 754,\n",
       " 'hand': 917,\n",
       " 'far': 739,\n",
       " 'perfectli': 1464,\n",
       " 'requir': 1677,\n",
       " 'camera': 287,\n",
       " 'angl': 72,\n",
       " 'gameplay': 850,\n",
       " 'aw': 136,\n",
       " 'third': 2090,\n",
       " 'gon': 885,\n",
       " 'na': 1317,\n",
       " 'problem': 1552,\n",
       " 'probabl': 1551,\n",
       " 'show': 1814,\n",
       " 'put': 1589,\n",
       " 'high': 959,\n",
       " 'load': 1173,\n",
       " 'durabl': 616,\n",
       " 'correct': 448,\n",
       " 'servic': 1783,\n",
       " 'said': 1731,\n",
       " 'usb': 2224,\n",
       " 'year': 2356,\n",
       " 'also': 58,\n",
       " 'constantli': 428,\n",
       " 'chang': 322,\n",
       " 'doesnt': 585,\n",
       " 'port': 1519,\n",
       " 'mess': 1249,\n",
       " 'unplug': 2208,\n",
       " 'repeatedli': 1670,\n",
       " 'proper': 1571,\n",
       " 'plug': 1505,\n",
       " 'overnight': 1418,\n",
       " 'search': 1757,\n",
       " 'power': 1526,\n",
       " 'taken': 2039,\n",
       " 'receiv': 1628,\n",
       " 'exactli': 690,\n",
       " 'favorit': 748,\n",
       " 'led': 1138,\n",
       " 'less': 1145,\n",
       " 'today': 2117,\n",
       " 'super': 2008,\n",
       " 'beyond': 198,\n",
       " 'chanc': 321,\n",
       " 'adapt': 22,\n",
       " 'current': 479,\n",
       " 'unus': 2213,\n",
       " 'macbook': 1204,\n",
       " 'decent': 513,\n",
       " 'seem': 1765,\n",
       " 'soo': 1892,\n",
       " 'best': 194,\n",
       " 'could': 454,\n",
       " 'ha': 912,\n",
       " 'believ': 187,\n",
       " 'happi': 922,\n",
       " 'center': 315,\n",
       " 'bare': 161,\n",
       " 'garbag': 854,\n",
       " 'pay': 1455,\n",
       " 'night': 1344,\n",
       " 'pretti': 1537,\n",
       " 'thin': 2085,\n",
       " 'ask': 112,\n",
       " 'home': 968,\n",
       " 'daili': 492,\n",
       " 'annoy': 74,\n",
       " 'plastic': 1493,\n",
       " 'landfil': 1115,\n",
       " 'suck': 1997,\n",
       " 'uncomfort': 2191,\n",
       " 'handi': 918,\n",
       " 'cordless': 445,\n",
       " 'button': 277,\n",
       " 'control': 434,\n",
       " 'prefer': 1529,\n",
       " 'rather': 1611,\n",
       " 'track': 2137,\n",
       " 'mac': 1203,\n",
       " 'desktop': 543,\n",
       " 'sleek': 1848,\n",
       " 'soft': 1876,\n",
       " 'simpli': 1834,\n",
       " 'charger': 328,\n",
       " 'connect': 420,\n",
       " 'describ': 537,\n",
       " 'mine': 1268,\n",
       " 'research': 1678,\n",
       " 'suppos': 2013,\n",
       " 'compat': 400,\n",
       " 'im': 1005,\n",
       " 'cheap': 331,\n",
       " 'final': 764,\n",
       " 'hour': 977,\n",
       " 'non': 1354,\n",
       " 'continu': 433,\n",
       " 'loos': 1185,\n",
       " 'perfect': 1463,\n",
       " 'blame': 208,\n",
       " 'manufactur': 1221,\n",
       " 'pink': 1483,\n",
       " 'highli': 962,\n",
       " 'post': 1524,\n",
       " 'jan': 1071,\n",
       " 'old': 1388,\n",
       " 'want': 2263,\n",
       " 'aug': 127,\n",
       " 'quick': 1592,\n",
       " 'poorli': 1517,\n",
       " 'made': 1207,\n",
       " 'full': 838,\n",
       " 'deliv': 531,\n",
       " 'via': 2243,\n",
       " 'someth': 1885,\n",
       " 'reliabl': 1659,\n",
       " 'th': 2076,\n",
       " 'mayb': 1232,\n",
       " 'glad': 869,\n",
       " 'kept': 1090,\n",
       " 'finger': 767,\n",
       " 'complet': 405,\n",
       " 'wont': 2323,\n",
       " 'half': 915,\n",
       " 'close': 372,\n",
       " 'eventu': 680,\n",
       " 'outsid': 1414,\n",
       " 'ergonom': 672,\n",
       " 'fit': 777,\n",
       " 'certainli': 317,\n",
       " 'instruct': 1046,\n",
       " 'pictur': 1479,\n",
       " 'translat': 2143,\n",
       " 'mean': 1233,\n",
       " 'nd': 1323,\n",
       " 'perform': 1465,\n",
       " 'instal': 1041,\n",
       " 'biggest': 202,\n",
       " 'complaint': 404,\n",
       " 'asleep': 113,\n",
       " 'either': 643,\n",
       " 'may': 1231,\n",
       " 'action': 18,\n",
       " 'pick': 1476,\n",
       " 'might': 1262,\n",
       " 'asid': 111,\n",
       " 'definit': 527,\n",
       " 'bad': 153,\n",
       " 'appl': 93,\n",
       " 'box': 237,\n",
       " 'came': 286,\n",
       " 'absolut': 4,\n",
       " 'smash': 1866,\n",
       " 'includ': 1021,\n",
       " 'slim': 1854,\n",
       " 'quiet': 1595,\n",
       " 'keyboard': 1092,\n",
       " 'daughter': 503,\n",
       " 'onlin': 1392,\n",
       " 'know': 1106,\n",
       " 'small': 1862,\n",
       " 'enough': 660,\n",
       " 'six': 1843,\n",
       " 'select': 1767,\n",
       " 'live': 1172,\n",
       " 'common': 393,\n",
       " 'everyday': 684,\n",
       " 'compliment': 406,\n",
       " 'intend': 1048,\n",
       " 'impress': 1015,\n",
       " 'win': 2307,\n",
       " 'damn': 495,\n",
       " 'despit': 544,\n",
       " 'multipl': 1312,\n",
       " 'attempt': 121,\n",
       " 'follow': 803,\n",
       " 'given': 868,\n",
       " 'cheapli': 334,\n",
       " 'worth': 2337,\n",
       " 'wast': 2270,\n",
       " 'suggest': 2003,\n",
       " 'avoid': 135,\n",
       " 'brand': 241,\n",
       " 'futur': 844,\n",
       " 'strongli': 1977,\n",
       " 'unless': 2204,\n",
       " 'throw': 2100,\n",
       " 'knock': 1105,\n",
       " 'ye': 2354,\n",
       " 'date': 502,\n",
       " 'basic': 166,\n",
       " 'save': 1739,\n",
       " 'name': 1319,\n",
       " 'offic': 1382,\n",
       " 'theme': 2080,\n",
       " 'refus': 1646,\n",
       " 'fell': 756,\n",
       " 'distract': 581,\n",
       " 'respons': 1687,\n",
       " 'though': 2093,\n",
       " 'movement': 1304,\n",
       " 'stick': 1954,\n",
       " 'exit': 702,\n",
       " 'five': 778,\n",
       " 'type': 2176,\n",
       " 'rememb': 1661,\n",
       " 'alway': 62,\n",
       " 'around': 105,\n",
       " 'insid': 1039,\n",
       " 'went': 2289,\n",
       " 'next': 1339,\n",
       " 'pro': 1550,\n",
       " 'held': 949,\n",
       " 'thought': 2094,\n",
       " 'amount': 69,\n",
       " 'usag': 2223,\n",
       " 'moder': 1284,\n",
       " 'abus': 5,\n",
       " 'arriv': 106,\n",
       " 'glitch': 873,\n",
       " 'respond': 1686,\n",
       " 'talk': 2040,\n",
       " 'activ': 19,\n",
       " 'forth': 813,\n",
       " 'instead': 1045,\n",
       " 'trackpad': 2139,\n",
       " 'spend': 1915,\n",
       " 'whole': 2301,\n",
       " 'devic': 551,\n",
       " 'juli': 1080,\n",
       " 'question': 1591,\n",
       " 'see': 1763,\n",
       " 'experienc': 707,\n",
       " 'known': 1107,\n",
       " 'mother': 1296,\n",
       " 'trash': 2148,\n",
       " 'inconsist': 1022,\n",
       " 'exist': 701,\n",
       " 'cant': 292,\n",
       " 'skip': 1846,\n",
       " 'lightweight': 1159,\n",
       " 'switch': 2027,\n",
       " 'often': 1384,\n",
       " 'sand': 1734,\n",
       " 'move': 1303,\n",
       " 'smooth': 1871,\n",
       " 'sit': 1840,\n",
       " 'awhil': 141,\n",
       " 'stylish': 1989,\n",
       " 'attach': 120,\n",
       " 'cord': 444,\n",
       " 'part': 1440,\n",
       " 'forev': 809,\n",
       " 'lose': 1186,\n",
       " 'amaz': 63,\n",
       " 'poor': 1516,\n",
       " 'handl': 919,\n",
       " 'cabl': 282,\n",
       " 'ignor': 1001,\n",
       " 'comment': 392,\n",
       " 'mistak': 1278,\n",
       " 'slick': 1850,\n",
       " 'thank': 2077,\n",
       " 'build': 267,\n",
       " 'profil': 1559,\n",
       " 'rainbow': 1603,\n",
       " 'avail': 132,\n",
       " 'rose': 1716,\n",
       " 'gold': 882,\n",
       " 'squeaki': 1929,\n",
       " 'stand': 1938,\n",
       " 'hear': 940,\n",
       " 'document': 584,\n",
       " 'bum': 270,\n",
       " 'lemon': 1143,\n",
       " 'mousepad': 1300,\n",
       " 'prompt': 1567,\n",
       " 'deliveri': 532,\n",
       " 'awesom': 140,\n",
       " 'apart': 86,\n",
       " 'pull': 1579,\n",
       " 'defect': 524,\n",
       " 'teal': 2053,\n",
       " 'fun': 840,\n",
       " 'bore': 230,\n",
       " 'imac': 1006,\n",
       " 'sad': 1728,\n",
       " 'bye': 281,\n",
       " 'press': 1535,\n",
       " 'hard': 924,\n",
       " 'fail': 725,\n",
       " 'big': 200,\n",
       " 'bummer': 271,\n",
       " 'rest': 1688,\n",
       " 'st': 1933,\n",
       " 'rd': 1614,\n",
       " 'lock': 1176,\n",
       " 'dead': 505,\n",
       " 'shape': 1795,\n",
       " 'roll': 1712,\n",
       " 'simpl': 1833,\n",
       " 'enjoy': 659,\n",
       " 'wire': 2312,\n",
       " 'togeth': 2118,\n",
       " 'inch': 1020,\n",
       " 'awkward': 142,\n",
       " 'bump': 272,\n",
       " 'smaller': 1863,\n",
       " 'ideal': 997,\n",
       " 'valu': 2235,\n",
       " 'begin': 183,\n",
       " 'mic': 1255,\n",
       " 'terribl': 2070,\n",
       " 'top': 2127,\n",
       " 'flat': 784,\n",
       " 'surfac': 2017,\n",
       " 'effort': 640,\n",
       " 'thinner': 2089,\n",
       " 'beat': 175,\n",
       " 'husband': 992,\n",
       " 'chose': 349,\n",
       " 'lol': 1178,\n",
       " 'read': 1619,\n",
       " 'rate': 1610,\n",
       " 'never': 1335,\n",
       " 'although': 60,\n",
       " 'glide': 872,\n",
       " 'smoothli': 1872,\n",
       " 'jump': 1081,\n",
       " 'mice': 1256,\n",
       " 'check': 335,\n",
       " 'improv': 1017,\n",
       " 'delay': 528,\n",
       " 'oper': 1396,\n",
       " 'initi': 1034,\n",
       " 'slowli': 1860,\n",
       " 'struggl': 1978,\n",
       " 'goe': 881,\n",
       " 'hit': 964,\n",
       " 'comfort': 390,\n",
       " 'end': 652,\n",
       " 'total': 2129,\n",
       " 'convert': 437,\n",
       " 'everyth': 686,\n",
       " 'els': 645,\n",
       " 'wonder': 2322,\n",
       " 'intern': 1054,\n",
       " 'fragil': 821,\n",
       " 'suddenli': 2000,\n",
       " 'tactil': 2035,\n",
       " 'feedback': 753,\n",
       " 'admit': 29,\n",
       " 'understand': 2195,\n",
       " 'black': 207,\n",
       " 'insert': 1038,\n",
       " 'white': 2300,\n",
       " 'underneath': 2193,\n",
       " 'pointer': 1511,\n",
       " 'accept': 6,\n",
       " 'age': 43,\n",
       " 'gorgeou': 889,\n",
       " 'inexpens': 1030,\n",
       " 'earli': 622,\n",
       " 'portabl': 1520,\n",
       " 'along': 54,\n",
       " 'gener': 857,\n",
       " 'dislik': 573,\n",
       " 'least': 1136,\n",
       " 'per': 1461,\n",
       " 'primari': 1544,\n",
       " 'thrill': 2098,\n",
       " 'neg': 1330,\n",
       " 'didnt': 554,\n",
       " 'woke': 2321,\n",
       " 'discov': 572,\n",
       " 'true': 2161,\n",
       " 'setup': 1786,\n",
       " 'usbc': 2225,\n",
       " 'newer': 1338,\n",
       " 'hardwar': 928,\n",
       " 'base': 163,\n",
       " 'upon': 2217,\n",
       " 'useless': 2229,\n",
       " 'almost': 52,\n",
       " 'add': 24,\n",
       " 'faster': 743,\n",
       " 'system': 2030,\n",
       " 'drawback': 604,\n",
       " 'miss': 1277,\n",
       " 'happen': 921,\n",
       " 'hous': 978,\n",
       " 'set': 1785,\n",
       " 'comfi': 389,\n",
       " 'recomend': 1635,\n",
       " 'threw': 2097,\n",
       " 'lost': 1188,\n",
       " 'connector': 421,\n",
       " 'adaptor': 23,\n",
       " 'opt': 1400,\n",
       " 'three': 2096,\n",
       " 'honestli': 971,\n",
       " 'normal': 1359,\n",
       " 'bright': 249,\n",
       " 'shine': 1802,\n",
       " 'aesthet': 36,\n",
       " 'desk': 542,\n",
       " 'carpet': 300,\n",
       " 'guess': 908,\n",
       " 'regular': 1651,\n",
       " 'realiz': 1623,\n",
       " 'exclus': 699,\n",
       " 'heavi': 945,\n",
       " 'nowher': 1366,\n",
       " 'worst': 2336,\n",
       " 'ever': 681,\n",
       " 'pointless': 1512,\n",
       " 'properli': 1572,\n",
       " 'anywher': 85,\n",
       " 'classi': 359,\n",
       " 'yet': 2360,\n",
       " 'sexi': 1789,\n",
       " 'sensit': 1773,\n",
       " 'conveni': 435,\n",
       " 'somewher': 1888,\n",
       " 'mousewheel': 1301,\n",
       " 'freeli': 826,\n",
       " 'amazingli': 64,\n",
       " 'eas': 628,\n",
       " 'mark': 1224,\n",
       " 'page': 1428,\n",
       " 'stuck': 1979,\n",
       " 'exchang': 697,\n",
       " 'immedi': 1009,\n",
       " 'reciev': 1632,\n",
       " 'origin': 1405,\n",
       " 'regist': 1649,\n",
       " 'joke': 1077,\n",
       " 'troubleshoot': 2159,\n",
       " 'request': 1676,\n",
       " 'ship': 1804,\n",
       " 'print': 1547,\n",
       " 'label': 1109,\n",
       " 'air': 49,\n",
       " 'april': 100,\n",
       " 'frequent': 829,\n",
       " 'thrown': 2101,\n",
       " 'mere': 1248,\n",
       " 'shut': 1817,\n",
       " 'allow': 51,\n",
       " 'effect': 638,\n",
       " 'seller': 1770,\n",
       " 'repli': 1672,\n",
       " 'assist': 117,\n",
       " 'custom': 484,\n",
       " 'practic': 1527,\n",
       " 'play': 1495,\n",
       " 'eight': 642,\n",
       " 'aspect': 114,\n",
       " 'yesterday': 2359,\n",
       " 'driver': 608,\n",
       " 'bust': 276,\n",
       " 'render': 1665,\n",
       " 'told': 2120,\n",
       " 'accur': 13,\n",
       " 'plenti': 1503,\n",
       " 'rgb': 1695,\n",
       " 'particularli': 1444,\n",
       " 'bulki': 269,\n",
       " 'stain': 1937,\n",
       " 'favor': 747,\n",
       " 'extra': 716,\n",
       " 'arrow': 107,\n",
       " 'altogeth': 61,\n",
       " 'forc': 808,\n",
       " 'appreci': 95,\n",
       " 'loud': 1190,\n",
       " 'withstand': 2319,\n",
       " 'floor': 795,\n",
       " 'phone': 1472,\n",
       " 'tv': 2171,\n",
       " 'hair': 914,\n",
       " 'quicker': 1593,\n",
       " 'circl': 354,\n",
       " 'imposs': 1014,\n",
       " 'sim': 1831,\n",
       " 'slightli': 1853,\n",
       " 'idea': 996,\n",
       " 'saw': 1741,\n",
       " 'winner': 2310,\n",
       " 'deeper': 520,\n",
       " 'becam': 177,\n",
       " 'errat': 673,\n",
       " 'memori': 1245,\n",
       " 'smart': 1865,\n",
       " 'irrit': 1061,\n",
       " 'point': 1510,\n",
       " 'excit': 698,\n",
       " 'extrem': 717,\n",
       " 'wide': 2302,\n",
       " 'enter': 662,\n",
       " 'multicolor': 1311,\n",
       " 'fast': 742,\n",
       " 'min': 1266,\n",
       " 'troubl': 2158,\n",
       " 'shoot': 1807,\n",
       " 'aggrav': 44,\n",
       " 'arch': 102,\n",
       " 'dont': 590,\n",
       " 'silent': 1827,\n",
       " 'children': 340,\n",
       " 'place': 1489,\n",
       " 'explain': 709,\n",
       " 'yr': 2365,\n",
       " 'compani': 396,\n",
       " 'gave': 855,\n",
       " 'target': 2047,\n",
       " 'materi': 1227,\n",
       " 'worn': 2333,\n",
       " 'limit': 1162,\n",
       " 'hp': 981,\n",
       " 'especi': 675,\n",
       " 'besid': 193,\n",
       " 'area': 103,\n",
       " 'casual': 305,\n",
       " 'sensor': 1774,\n",
       " 'entir': 664,\n",
       " 'wrist': 2343,\n",
       " 'hurt': 991,\n",
       " 'run': 1727,\n",
       " 'let': 1147,\n",
       " 'claim': 356,\n",
       " 'ta': 2031,\n",
       " 'februari': 751,\n",
       " 'stress': 1971,\n",
       " 'specif': 1913,\n",
       " 'directli': 563,\n",
       " 'fingertip': 768,\n",
       " 'solv': 1882,\n",
       " 'height': 948,\n",
       " 'averag': 133,\n",
       " 'haha': 913,\n",
       " 'jumpi': 1082,\n",
       " 'job': 1076,\n",
       " 'done': 588,\n",
       " 'ipad': 1059,\n",
       " 'manag': 1217,\n",
       " 'spring': 1926,\n",
       " 'fix': 779,\n",
       " 'call': 284,\n",
       " 'upgrad': 2216,\n",
       " 'updat': 2215,\n",
       " 'yeah': 2355,\n",
       " 'approv': 97,\n",
       " 'fantast': 738,\n",
       " 'lit': 1168,\n",
       " 'toggl': 2119,\n",
       " 'download': 597,\n",
       " 'anyth': 82,\n",
       " 'pair': 1432,\n",
       " 'multi': 1310,\n",
       " 'decor': 518,\n",
       " 'cat': 306,\n",
       " 'descript': 538,\n",
       " 'gift': 864,\n",
       " 'grade': 893,\n",
       " 'side': 1820,\n",
       " 'combin': 386,\n",
       " 'carpal': 299,\n",
       " 'tunnel': 2168,\n",
       " 'figur': 761,\n",
       " 'scratch': 1748,\n",
       " 'deal': 507,\n",
       " 'horribl': 975,\n",
       " 'meant': 1234,\n",
       " 'fake': 730,\n",
       " 'crappi': 468,\n",
       " 'budget': 266,\n",
       " 'outlet': 1412,\n",
       " 'worker': 2329,\n",
       " 'individu': 1028,\n",
       " 'protect': 1574,\n",
       " 'thinkpad': 2088,\n",
       " 'dongl': 589,\n",
       " 'possibl': 1523,\n",
       " 'magic': 1208,\n",
       " 'reset': 1679,\n",
       " 'repair': 1668,\n",
       " 'line': 1163,\n",
       " 'huge': 985,\n",
       " 'inconveni': 1023,\n",
       " 'cowork': 461,\n",
       " 'caution': 311,\n",
       " 'decid': 515,\n",
       " 'worri': 2334,\n",
       " 'pleas': 1499,\n",
       " 'mind': 1267,\n",
       " 'peopl': 1460,\n",
       " 'appar': 90,\n",
       " 'buyer': 279,\n",
       " 'bewar': 197,\n",
       " 'real': 1621,\n",
       " 'alot': 55,\n",
       " 'expir': 708,\n",
       " 'fairli': 729,\n",
       " 'bonu': 223,\n",
       " 'necessari': 1327,\n",
       " 'morn': 1294,\n",
       " 'concern': 411,\n",
       " 'difficult': 557,\n",
       " 'shock': 1806,\n",
       " 'mom': 1286,\n",
       " 'honest': 970,\n",
       " 'fan': 736,\n",
       " 'ad': 21,\n",
       " 'somehow': 1883,\n",
       " 'silver': 1830,\n",
       " 'web': 2279,\n",
       " 'father': 744,\n",
       " 'okay': 1387,\n",
       " 'style': 1988,\n",
       " 'softwar': 1877,\n",
       " 'readi': 1620,\n",
       " 'regularli': 1652,\n",
       " 'standard': 1939,\n",
       " 'appropri': 96,\n",
       " 'environ': 667,\n",
       " 'class': 358,\n",
       " 'nois': 1351,\n",
       " 'quietli': 1597,\n",
       " 'fool': 805,\n",
       " 'aa': 0,\n",
       " 'sooner': 1894,\n",
       " 'tool': 2125,\n",
       " 'plan': 1492,\n",
       " 'hassl': 932,\n",
       " 'import': 1012,\n",
       " 'neat': 1326,\n",
       " 'logitech': 1177,\n",
       " 'recogn': 1634,\n",
       " 'cover': 460,\n",
       " 'separ': 1776,\n",
       " 'flimsi': 792,\n",
       " 'eat': 633,\n",
       " 'awar': 138,\n",
       " 'remov': 1664,\n",
       " 'pri': 1541,\n",
       " 'space': 1904,\n",
       " 'grab': 892,\n",
       " 'pass': 1446,\n",
       " 'machin': 1205,\n",
       " 'reorder': 1666,\n",
       " 'rare': 1609,\n",
       " 'correctli': 449,\n",
       " 'million': 1265,\n",
       " 'own': 1421,\n",
       " 'overpow': 1419,\n",
       " 'previou': 1539,\n",
       " 'watch': 2271,\n",
       " 'polici': 1513,\n",
       " 'electron': 644,\n",
       " 'tendenc': 2068,\n",
       " 'burn': 274,\n",
       " 'crap': 467,\n",
       " 'transluc': 2144,\n",
       " 'competit': 402,\n",
       " 'kid': 1096,\n",
       " 'detach': 546,\n",
       " 'reli': 1658,\n",
       " 'chair': 319,\n",
       " 'edg': 636,\n",
       " 'tabl': 2033,\n",
       " 'result': 1691,\n",
       " 'boot': 229,\n",
       " 'locat': 1175,\n",
       " 'compon': 407,\n",
       " 'effici': 639,\n",
       " 'chines': 342,\n",
       " 'self': 1768,\n",
       " 'blue': 218,\n",
       " 'sound': 1901,\n",
       " 'precis': 1528,\n",
       " 'slot': 1857,\n",
       " 'bluetooth': 219,\n",
       " 'stellar': 1951,\n",
       " 'vs': 2254,\n",
       " 'mail': 1209,\n",
       " 'minimum': 1272,\n",
       " 'error': 674,\n",
       " 'messag': 1250,\n",
       " 'malfunct': 1215,\n",
       " 'micro': 1257,\n",
       " 'appear': 92,\n",
       " 'cheaper': 332,\n",
       " 'dispos': 575,\n",
       " 'juic': 1079,\n",
       " 'technic': 2059,\n",
       " 'idl': 1000,\n",
       " 'flip': 793,\n",
       " 'arm': 104,\n",
       " 'snap': 1873,\n",
       " 'forget': 810,\n",
       " 'lower': 1196,\n",
       " 'higher': 960,\n",
       " 'strain': 1967,\n",
       " 'engag': 655,\n",
       " 'traction': 2140,\n",
       " 'four': 818,\n",
       " 'somewhat': 1887,\n",
       " 'occasion': 1377,\n",
       " 'pain': 1430,\n",
       " 'ass': 115,\n",
       " 'clear': 363,\n",
       " 'warranti': 2267,\n",
       " 'plu': 1504,\n",
       " 'isnt': 1063,\n",
       " 'meh': 1241,\n",
       " 'constant': 427,\n",
       " 'changer': 323,\n",
       " 'speed': 1914,\n",
       " 'adjust': 28,\n",
       " 'incas': 1019,\n",
       " 'someon': 1884,\n",
       " 'medium': 1238,\n",
       " 'larg': 1119,\n",
       " 'contact': 431,\n",
       " 'dollar': 587,\n",
       " 'fee': 752,\n",
       " 'send': 1771,\n",
       " 'disabl': 566,\n",
       " 'draw': 603,\n",
       " 'flow': 796,\n",
       " ...}"
      ]
     },
     "execution_count": 219,
     "metadata": {},
     "output_type": "execute_result"
    }
   ],
   "source": [
    "vect.vocabulary_"
   ]
  },
  {
   "cell_type": "code",
   "execution_count": 220,
   "metadata": {},
   "outputs": [
    {
     "data": {
      "text/plain": [
       "2369"
      ]
     },
     "execution_count": 220,
     "metadata": {},
     "output_type": "execute_result"
    }
   ],
   "source": [
    "len(vect.vocabulary_)"
   ]
  },
  {
   "attachments": {},
   "cell_type": "markdown",
   "metadata": {},
   "source": [
    "### Convert sparse matrix  to an array"
   ]
  },
  {
   "cell_type": "code",
   "execution_count": 221,
   "metadata": {},
   "outputs": [
    {
     "data": {
      "text/plain": [
       "scipy.sparse._csr.csr_matrix"
      ]
     },
     "execution_count": 221,
     "metadata": {},
     "output_type": "execute_result"
    }
   ],
   "source": [
    "#Lets check the type of X\n",
    "type(X)"
   ]
  },
  {
   "cell_type": "code",
   "execution_count": 222,
   "metadata": {},
   "outputs": [],
   "source": [
    "# Lets convert to array\n",
    "X_a = X.toarray()"
   ]
  },
  {
   "cell_type": "code",
   "execution_count": 223,
   "metadata": {},
   "outputs": [
    {
     "data": {
      "text/plain": [
       "(17337, 2369)"
      ]
     },
     "execution_count": 223,
     "metadata": {},
     "output_type": "execute_result"
    }
   ],
   "source": [
    "X_a.shape"
   ]
  },
  {
   "cell_type": "code",
   "execution_count": 224,
   "metadata": {},
   "outputs": [
    {
     "data": {
      "text/plain": [
       "array([0, 0, 0, ..., 0, 0, 0], dtype=int64)"
      ]
     },
     "execution_count": 224,
     "metadata": {},
     "output_type": "execute_result"
    }
   ],
   "source": [
    "X_a[1344,:]"
   ]
  },
  {
   "cell_type": "code",
   "execution_count": 225,
   "metadata": {},
   "outputs": [
    {
     "data": {
      "text/html": [
       "<div>\n",
       "<style scoped>\n",
       "    .dataframe tbody tr th:only-of-type {\n",
       "        vertical-align: middle;\n",
       "    }\n",
       "\n",
       "    .dataframe tbody tr th {\n",
       "        vertical-align: top;\n",
       "    }\n",
       "\n",
       "    .dataframe thead th {\n",
       "        text-align: right;\n",
       "    }\n",
       "</style>\n",
       "<table border=\"1\" class=\"dataframe\">\n",
       "  <thead>\n",
       "    <tr style=\"text-align: right;\">\n",
       "      <th></th>\n",
       "      <th>sentiments</th>\n",
       "      <th>cleaned_review</th>\n",
       "    </tr>\n",
       "  </thead>\n",
       "  <tbody>\n",
       "    <tr>\n",
       "      <th>0</th>\n",
       "      <td>Positive</td>\n",
       "      <td>i wish would have gotten one earlier love it a...</td>\n",
       "    </tr>\n",
       "    <tr>\n",
       "      <th>1</th>\n",
       "      <td>Positive</td>\n",
       "      <td>i ve learned this lesson again open the packag...</td>\n",
       "    </tr>\n",
       "    <tr>\n",
       "      <th>2</th>\n",
       "      <td>Positive</td>\n",
       "      <td>it is so slow and lags find better option</td>\n",
       "    </tr>\n",
       "    <tr>\n",
       "      <th>3</th>\n",
       "      <td>Positive</td>\n",
       "      <td>roller ball stopped working within months of m...</td>\n",
       "    </tr>\n",
       "    <tr>\n",
       "      <th>4</th>\n",
       "      <td>Positive</td>\n",
       "      <td>i like the color and size but it few days out ...</td>\n",
       "    </tr>\n",
       "  </tbody>\n",
       "</table>\n",
       "</div>"
      ],
      "text/plain": [
       "  sentiments                                     cleaned_review\n",
       "0   Positive  i wish would have gotten one earlier love it a...\n",
       "1   Positive  i ve learned this lesson again open the packag...\n",
       "2   Positive          it is so slow and lags find better option\n",
       "3   Positive  roller ball stopped working within months of m...\n",
       "4   Positive  i like the color and size but it few days out ..."
      ]
     },
     "execution_count": 225,
     "metadata": {},
     "output_type": "execute_result"
    }
   ],
   "source": [
    "data_clean_final.head()"
   ]
  },
  {
   "cell_type": "code",
   "execution_count": 226,
   "metadata": {},
   "outputs": [
    {
     "name": "stderr",
     "output_type": "stream",
     "text": [
      "C:\\Users\\keyeg\\AppData\\Local\\Temp\\ipykernel_9876\\1320386751.py:2: DeprecationWarning: In a future version, `df.iloc[:, i] = newvals` will attempt to set the values inplace instead of always setting a new array. To retain the old behavior, use either `df[df.columns[i]] = newvals` or, if columns are non-unique, `df.isetitem(i, newvals)`\n",
      "  data_clean_final.loc[:, \"sentiments\"] = data_clean_final[\"sentiments\"].apply(lambda x: 1 if x==\"Positive\" else 0)\n"
     ]
    }
   ],
   "source": [
    "data_clean_final = data_clean_final.copy()\n",
    "data_clean_final.loc[:, \"sentiments\"] = data_clean_final[\"sentiments\"].apply(lambda x: 1 if x==\"Positive\" else 0)\n"
   ]
  },
  {
   "cell_type": "code",
   "execution_count": 227,
   "metadata": {},
   "outputs": [],
   "source": [
    "y = data_clean_final[\"sentiments\"]"
   ]
  },
  {
   "cell_type": "code",
   "execution_count": 228,
   "metadata": {},
   "outputs": [
    {
     "name": "stdout",
     "output_type": "stream",
     "text": [
      "(17337, 2369)\n",
      "(17337,)\n"
     ]
    }
   ],
   "source": [
    "print(X.shape)\n",
    "print(y.shape)\n"
   ]
  },
  {
   "attachments": {},
   "cell_type": "markdown",
   "metadata": {},
   "source": [
    "### Split the dataset into train and test"
   ]
  },
  {
   "cell_type": "code",
   "execution_count": 229,
   "metadata": {},
   "outputs": [],
   "source": [
    "X_train, X_test, y_train, y_test = train_test_split(X, y, test_size=0.2, stratify=y, random_state=42, shuffle=True)\n"
   ]
  },
  {
   "attachments": {},
   "cell_type": "markdown",
   "metadata": {},
   "source": [
    "### Build a Logistic Regression model"
   ]
  },
  {
   "cell_type": "code",
   "execution_count": 230,
   "metadata": {},
   "outputs": [],
   "source": [
    "model = LogisticRegression()"
   ]
  },
  {
   "cell_type": "code",
   "execution_count": 231,
   "metadata": {},
   "outputs": [
    {
     "name": "stderr",
     "output_type": "stream",
     "text": [
      "c:\\Users\\keyeg\\anaconda3\\lib\\site-packages\\sklearn\\linear_model\\_logistic.py:458: ConvergenceWarning: lbfgs failed to converge (status=1):\n",
      "STOP: TOTAL NO. of ITERATIONS REACHED LIMIT.\n",
      "\n",
      "Increase the number of iterations (max_iter) or scale the data as shown in:\n",
      "    https://scikit-learn.org/stable/modules/preprocessing.html\n",
      "Please also refer to the documentation for alternative solver options:\n",
      "    https://scikit-learn.org/stable/modules/linear_model.html#logistic-regression\n",
      "  n_iter_i = _check_optimize_result(\n"
     ]
    },
    {
     "data": {
      "text/html": [
       "<style>#sk-container-id-5 {color: black;background-color: white;}#sk-container-id-5 pre{padding: 0;}#sk-container-id-5 div.sk-toggleable {background-color: white;}#sk-container-id-5 label.sk-toggleable__label {cursor: pointer;display: block;width: 100%;margin-bottom: 0;padding: 0.3em;box-sizing: border-box;text-align: center;}#sk-container-id-5 label.sk-toggleable__label-arrow:before {content: \"▸\";float: left;margin-right: 0.25em;color: #696969;}#sk-container-id-5 label.sk-toggleable__label-arrow:hover:before {color: black;}#sk-container-id-5 div.sk-estimator:hover label.sk-toggleable__label-arrow:before {color: black;}#sk-container-id-5 div.sk-toggleable__content {max-height: 0;max-width: 0;overflow: hidden;text-align: left;background-color: #f0f8ff;}#sk-container-id-5 div.sk-toggleable__content pre {margin: 0.2em;color: black;border-radius: 0.25em;background-color: #f0f8ff;}#sk-container-id-5 input.sk-toggleable__control:checked~div.sk-toggleable__content {max-height: 200px;max-width: 100%;overflow: auto;}#sk-container-id-5 input.sk-toggleable__control:checked~label.sk-toggleable__label-arrow:before {content: \"▾\";}#sk-container-id-5 div.sk-estimator input.sk-toggleable__control:checked~label.sk-toggleable__label {background-color: #d4ebff;}#sk-container-id-5 div.sk-label input.sk-toggleable__control:checked~label.sk-toggleable__label {background-color: #d4ebff;}#sk-container-id-5 input.sk-hidden--visually {border: 0;clip: rect(1px 1px 1px 1px);clip: rect(1px, 1px, 1px, 1px);height: 1px;margin: -1px;overflow: hidden;padding: 0;position: absolute;width: 1px;}#sk-container-id-5 div.sk-estimator {font-family: monospace;background-color: #f0f8ff;border: 1px dotted black;border-radius: 0.25em;box-sizing: border-box;margin-bottom: 0.5em;}#sk-container-id-5 div.sk-estimator:hover {background-color: #d4ebff;}#sk-container-id-5 div.sk-parallel-item::after {content: \"\";width: 100%;border-bottom: 1px solid gray;flex-grow: 1;}#sk-container-id-5 div.sk-label:hover label.sk-toggleable__label {background-color: #d4ebff;}#sk-container-id-5 div.sk-serial::before {content: \"\";position: absolute;border-left: 1px solid gray;box-sizing: border-box;top: 0;bottom: 0;left: 50%;z-index: 0;}#sk-container-id-5 div.sk-serial {display: flex;flex-direction: column;align-items: center;background-color: white;padding-right: 0.2em;padding-left: 0.2em;position: relative;}#sk-container-id-5 div.sk-item {position: relative;z-index: 1;}#sk-container-id-5 div.sk-parallel {display: flex;align-items: stretch;justify-content: center;background-color: white;position: relative;}#sk-container-id-5 div.sk-item::before, #sk-container-id-5 div.sk-parallel-item::before {content: \"\";position: absolute;border-left: 1px solid gray;box-sizing: border-box;top: 0;bottom: 0;left: 50%;z-index: -1;}#sk-container-id-5 div.sk-parallel-item {display: flex;flex-direction: column;z-index: 1;position: relative;background-color: white;}#sk-container-id-5 div.sk-parallel-item:first-child::after {align-self: flex-end;width: 50%;}#sk-container-id-5 div.sk-parallel-item:last-child::after {align-self: flex-start;width: 50%;}#sk-container-id-5 div.sk-parallel-item:only-child::after {width: 0;}#sk-container-id-5 div.sk-dashed-wrapped {border: 1px dashed gray;margin: 0 0.4em 0.5em 0.4em;box-sizing: border-box;padding-bottom: 0.4em;background-color: white;}#sk-container-id-5 div.sk-label label {font-family: monospace;font-weight: bold;display: inline-block;line-height: 1.2em;}#sk-container-id-5 div.sk-label-container {text-align: center;}#sk-container-id-5 div.sk-container {/* jupyter's `normalize.less` sets `[hidden] { display: none; }` but bootstrap.min.css set `[hidden] { display: none !important; }` so we also need the `!important` here to be able to override the default hidden behavior on the sphinx rendered scikit-learn.org. See: https://github.com/scikit-learn/scikit-learn/issues/21755 */display: inline-block !important;position: relative;}#sk-container-id-5 div.sk-text-repr-fallback {display: none;}</style><div id=\"sk-container-id-5\" class=\"sk-top-container\"><div class=\"sk-text-repr-fallback\"><pre>LogisticRegression()</pre><b>In a Jupyter environment, please rerun this cell to show the HTML representation or trust the notebook. <br />On GitHub, the HTML representation is unable to render, please try loading this page with nbviewer.org.</b></div><div class=\"sk-container\" hidden><div class=\"sk-item\"><div class=\"sk-estimator sk-toggleable\"><input class=\"sk-toggleable__control sk-hidden--visually\" id=\"sk-estimator-id-5\" type=\"checkbox\" checked><label for=\"sk-estimator-id-5\" class=\"sk-toggleable__label sk-toggleable__label-arrow\">LogisticRegression</label><div class=\"sk-toggleable__content\"><pre>LogisticRegression()</pre></div></div></div></div></div>"
      ],
      "text/plain": [
       "LogisticRegression()"
      ]
     },
     "execution_count": 231,
     "metadata": {},
     "output_type": "execute_result"
    }
   ],
   "source": [
    "model.fit(X_train, y_train)"
   ]
  },
  {
   "cell_type": "code",
   "execution_count": 232,
   "metadata": {},
   "outputs": [
    {
     "name": "stdout",
     "output_type": "stream",
     "text": [
      "Train Accuracy:0.9717355252721898\n",
      "Test Accuracy:0.9420415224913494\n"
     ]
    }
   ],
   "source": [
    "train_pred = model.predict(X_train)\n",
    "test_pred = model.predict(X_test)\n",
    "print(f\"Train Accuracy:{accuracy_score(y_train, train_pred)}\")\n",
    "print(f\"Test Accuracy:{accuracy_score(y_test, test_pred)}\")"
   ]
  },
  {
   "attachments": {},
   "cell_type": "markdown",
   "metadata": {},
   "source": [
    "## TF-IDF"
   ]
  },
  {
   "cell_type": "code",
   "execution_count": 233,
   "metadata": {},
   "outputs": [],
   "source": [
    "vect=TfidfVectorizer(min_df=5)"
   ]
  },
  {
   "cell_type": "code",
   "execution_count": 234,
   "metadata": {},
   "outputs": [],
   "source": [
    "X=vect.fit_transform(clean_reviews)"
   ]
  },
  {
   "cell_type": "code",
   "execution_count": 235,
   "metadata": {},
   "outputs": [
    {
     "data": {
      "text/plain": [
       "(17337, 2369)"
      ]
     },
     "execution_count": 235,
     "metadata": {},
     "output_type": "execute_result"
    }
   ],
   "source": [
    "X.shape"
   ]
  },
  {
   "cell_type": "code",
   "execution_count": 236,
   "metadata": {},
   "outputs": [],
   "source": [
    "X_train, X_test, y_train, y_test = train_test_split(X, y, test_size=0.2,\n",
    "                                                   stratify=y, random_state=42)"
   ]
  },
  {
   "cell_type": "code",
   "execution_count": 237,
   "metadata": {},
   "outputs": [
    {
     "data": {
      "text/html": [
       "<style>#sk-container-id-6 {color: black;background-color: white;}#sk-container-id-6 pre{padding: 0;}#sk-container-id-6 div.sk-toggleable {background-color: white;}#sk-container-id-6 label.sk-toggleable__label {cursor: pointer;display: block;width: 100%;margin-bottom: 0;padding: 0.3em;box-sizing: border-box;text-align: center;}#sk-container-id-6 label.sk-toggleable__label-arrow:before {content: \"▸\";float: left;margin-right: 0.25em;color: #696969;}#sk-container-id-6 label.sk-toggleable__label-arrow:hover:before {color: black;}#sk-container-id-6 div.sk-estimator:hover label.sk-toggleable__label-arrow:before {color: black;}#sk-container-id-6 div.sk-toggleable__content {max-height: 0;max-width: 0;overflow: hidden;text-align: left;background-color: #f0f8ff;}#sk-container-id-6 div.sk-toggleable__content pre {margin: 0.2em;color: black;border-radius: 0.25em;background-color: #f0f8ff;}#sk-container-id-6 input.sk-toggleable__control:checked~div.sk-toggleable__content {max-height: 200px;max-width: 100%;overflow: auto;}#sk-container-id-6 input.sk-toggleable__control:checked~label.sk-toggleable__label-arrow:before {content: \"▾\";}#sk-container-id-6 div.sk-estimator input.sk-toggleable__control:checked~label.sk-toggleable__label {background-color: #d4ebff;}#sk-container-id-6 div.sk-label input.sk-toggleable__control:checked~label.sk-toggleable__label {background-color: #d4ebff;}#sk-container-id-6 input.sk-hidden--visually {border: 0;clip: rect(1px 1px 1px 1px);clip: rect(1px, 1px, 1px, 1px);height: 1px;margin: -1px;overflow: hidden;padding: 0;position: absolute;width: 1px;}#sk-container-id-6 div.sk-estimator {font-family: monospace;background-color: #f0f8ff;border: 1px dotted black;border-radius: 0.25em;box-sizing: border-box;margin-bottom: 0.5em;}#sk-container-id-6 div.sk-estimator:hover {background-color: #d4ebff;}#sk-container-id-6 div.sk-parallel-item::after {content: \"\";width: 100%;border-bottom: 1px solid gray;flex-grow: 1;}#sk-container-id-6 div.sk-label:hover label.sk-toggleable__label {background-color: #d4ebff;}#sk-container-id-6 div.sk-serial::before {content: \"\";position: absolute;border-left: 1px solid gray;box-sizing: border-box;top: 0;bottom: 0;left: 50%;z-index: 0;}#sk-container-id-6 div.sk-serial {display: flex;flex-direction: column;align-items: center;background-color: white;padding-right: 0.2em;padding-left: 0.2em;position: relative;}#sk-container-id-6 div.sk-item {position: relative;z-index: 1;}#sk-container-id-6 div.sk-parallel {display: flex;align-items: stretch;justify-content: center;background-color: white;position: relative;}#sk-container-id-6 div.sk-item::before, #sk-container-id-6 div.sk-parallel-item::before {content: \"\";position: absolute;border-left: 1px solid gray;box-sizing: border-box;top: 0;bottom: 0;left: 50%;z-index: -1;}#sk-container-id-6 div.sk-parallel-item {display: flex;flex-direction: column;z-index: 1;position: relative;background-color: white;}#sk-container-id-6 div.sk-parallel-item:first-child::after {align-self: flex-end;width: 50%;}#sk-container-id-6 div.sk-parallel-item:last-child::after {align-self: flex-start;width: 50%;}#sk-container-id-6 div.sk-parallel-item:only-child::after {width: 0;}#sk-container-id-6 div.sk-dashed-wrapped {border: 1px dashed gray;margin: 0 0.4em 0.5em 0.4em;box-sizing: border-box;padding-bottom: 0.4em;background-color: white;}#sk-container-id-6 div.sk-label label {font-family: monospace;font-weight: bold;display: inline-block;line-height: 1.2em;}#sk-container-id-6 div.sk-label-container {text-align: center;}#sk-container-id-6 div.sk-container {/* jupyter's `normalize.less` sets `[hidden] { display: none; }` but bootstrap.min.css set `[hidden] { display: none !important; }` so we also need the `!important` here to be able to override the default hidden behavior on the sphinx rendered scikit-learn.org. See: https://github.com/scikit-learn/scikit-learn/issues/21755 */display: inline-block !important;position: relative;}#sk-container-id-6 div.sk-text-repr-fallback {display: none;}</style><div id=\"sk-container-id-6\" class=\"sk-top-container\"><div class=\"sk-text-repr-fallback\"><pre>LogisticRegression()</pre><b>In a Jupyter environment, please rerun this cell to show the HTML representation or trust the notebook. <br />On GitHub, the HTML representation is unable to render, please try loading this page with nbviewer.org.</b></div><div class=\"sk-container\" hidden><div class=\"sk-item\"><div class=\"sk-estimator sk-toggleable\"><input class=\"sk-toggleable__control sk-hidden--visually\" id=\"sk-estimator-id-6\" type=\"checkbox\" checked><label for=\"sk-estimator-id-6\" class=\"sk-toggleable__label sk-toggleable__label-arrow\">LogisticRegression</label><div class=\"sk-toggleable__content\"><pre>LogisticRegression()</pre></div></div></div></div></div>"
      ],
      "text/plain": [
       "LogisticRegression()"
      ]
     },
     "execution_count": 237,
     "metadata": {},
     "output_type": "execute_result"
    }
   ],
   "source": [
    "model=LogisticRegression()\n",
    "model.fit(X_train,y_train)"
   ]
  },
  {
   "cell_type": "code",
   "execution_count": 238,
   "metadata": {},
   "outputs": [
    {
     "name": "stdout",
     "output_type": "stream",
     "text": [
      "Train Accuracy:0.9353233830845771\n",
      "Test Accuracy:0.9273356401384083\n"
     ]
    }
   ],
   "source": [
    "train_pred = model.predict(X_train)\n",
    "test_pred = model.predict(X_test)\n",
    "print(f\"Train Accuracy:{accuracy_score(y_train, train_pred)}\")\n",
    "print(f\"Test Accuracy:{accuracy_score(y_test, test_pred)}\")"
   ]
  },
  {
   "cell_type": "code",
   "execution_count": 239,
   "metadata": {},
   "outputs": [],
   "source": [
    "import pickle\n",
    "\n",
    "with open(\"count_vect.pk\", \"wb\") as f:\n",
    "    pickle.dump(vect, f)\n",
    "    \n",
    "with open(\"count_vect_lr.pkl\", \"wb\") as f:\n",
    "    pickle.dump(model, f)\n"
   ]
  },
  {
   "cell_type": "code",
   "execution_count": null,
   "metadata": {},
   "outputs": [],
   "source": []
  },
  {
   "cell_type": "code",
   "execution_count": null,
   "metadata": {},
   "outputs": [],
   "source": []
  },
  {
   "attachments": {},
   "cell_type": "markdown",
   "metadata": {},
   "source": [
    "## Conclusion\n",
    "\n",
    "We have built a text classification model to predict the sentiment of product reviews scraped from Amazon. We started by preprocessing the text data by removing stopwords and punctuations, analyzing the top frequent words, and converting the text to lowercase while removing numbers.\n",
    "\n",
    "We created a binary classification task by combining neutral and positive sentiments, and then we visualized a word cloud from the final prepared text to get an idea of the most common words used in the reviews. We then created two datasets using CountVectorizer and TF-IDF vectorizer and built logistic regression models on both sets of data.\n",
    "\n",
    "We compared the performance of these models by evaluating the train and test accuracies. Our CountVectorizer model achieved higher accuracy than the TF-IDF model, with a Train Accuracy of 0.9717 and a Test Accuracy of 0.9420. The TF-IDF model had a Train Accuracy of 0.9353 and a Test Accuracy of 0.9273.\n",
    "\n",
    "Overall, our text classification model demonstrated a high level of accuracy in predicting the sentiment of product reviews, which could be valuable for businesses to improve their product offerings and customer satisfaction. By using different vectorization techniques and comparing their performance, we gained insights into the strengths and weaknesses of these approaches and can use this knowledge to choose the best model for future text classification tasks."
   ]
  },
  {
   "cell_type": "code",
   "execution_count": 241,
   "metadata": {},
   "outputs": [
    {
     "ename": "SyntaxError",
     "evalue": "invalid syntax (55321007.py, line 1)",
     "output_type": "error",
     "traceback": [
      "\u001b[1;36m  File \u001b[1;32m\"C:\\Users\\keyeg\\AppData\\Local\\Temp\\ipykernel_9876\\55321007.py\"\u001b[1;36m, line \u001b[1;32m1\u001b[0m\n\u001b[1;33m    *.pyc\u001b[0m\n\u001b[1;37m     ^\u001b[0m\n\u001b[1;31mSyntaxError\u001b[0m\u001b[1;31m:\u001b[0m invalid syntax\n"
     ]
    }
   ],
   "source": [
    "*.pyc\n",
    ".vscode/\n"
   ]
  }
 ],
 "metadata": {
  "kernelspec": {
   "display_name": "base",
   "language": "python",
   "name": "python3"
  },
  "language_info": {
   "codemirror_mode": {
    "name": "ipython",
    "version": 3
   },
   "file_extension": ".py",
   "mimetype": "text/x-python",
   "name": "python",
   "nbconvert_exporter": "python",
   "pygments_lexer": "ipython3",
   "version": "3.9.13"
  },
  "orig_nbformat": 4
 },
 "nbformat": 4,
 "nbformat_minor": 2
}
